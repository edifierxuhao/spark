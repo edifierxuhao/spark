{
 "cells": [
  {
   "cell_type": "markdown",
   "metadata": {},
   "source": [
    "# Sparkify Project Workspace\n",
    "This workspace contains a tiny subset (128MB) of the full dataset available (12GB). Feel free to use this workspace to build your project, or to explore a smaller subset with Spark before deploying your cluster on the cloud. Instructions for setting up your Spark cluster is included in the last lesson of the Extracurricular Spark Course content.\n",
    "\n",
    "You can follow the steps below to guide your data analysis and model building portion of this project."
   ]
  },
  {
   "cell_type": "code",
   "execution_count": 54,
   "metadata": {},
   "outputs": [],
   "source": [
    "# import libraries\n",
    "from pyspark.sql import SparkSession\n",
    "\n",
    "from pyspark.sql.functions import udf, desc, asc, sum, max, min, avg, countDistinct,\\\n",
    "            row_number, col, expr, round,first\n",
    "from pyspark.sql.types import StringType, IntegerType, LongType\n",
    "\n",
    "import datetime\n",
    "import numpy as np\n",
    "import pandas as pd\n",
    "import seaborn as sns\n",
    "import matplotlib.pyplot as plt\n",
    "\n",
    "%matplotlib inline"
   ]
  },
  {
   "cell_type": "code",
   "execution_count": 2,
   "metadata": {},
   "outputs": [],
   "source": [
    "spark = SparkSession.builder \\\n",
    "    .master(\"local\") \\\n",
    "    .appName(\"Project\") \\\n",
    "    .getOrCreate()"
   ]
  },
  {
   "cell_type": "markdown",
   "metadata": {},
   "source": [
    "# 1. Load and Clean Dataset\n",
    "In this workspace, the mini-dataset file is `mini_sparkify_event_data.json`. Load and clean the dataset, checking for invalid or missing data - for example, records without userids or sessionids. "
   ]
  },
  {
   "cell_type": "code",
   "execution_count": 3,
   "metadata": {},
   "outputs": [
    {
     "data": {
      "text/plain": [
       "DataFrame[artist: string, auth: string, firstName: string, gender: string, itemInSession: bigint, lastName: string, length: double, level: string, location: string, method: string, page: string, registration: bigint, sessionId: bigint, song: string, status: bigint, ts: bigint, userAgent: string, userId: string]"
      ]
     },
     "execution_count": 3,
     "metadata": {},
     "output_type": "execute_result"
    }
   ],
   "source": [
    "data = 'mini_sparkify_event_data.json'\n",
    "df = spark.read.json(data)\n",
    "df.persist()"
   ]
  },
  {
   "cell_type": "code",
   "execution_count": 4,
   "metadata": {},
   "outputs": [
    {
     "name": "stdout",
     "output_type": "stream",
     "text": [
      "root\n",
      " |-- artist: string (nullable = true)\n",
      " |-- auth: string (nullable = true)\n",
      " |-- firstName: string (nullable = true)\n",
      " |-- gender: string (nullable = true)\n",
      " |-- itemInSession: long (nullable = true)\n",
      " |-- lastName: string (nullable = true)\n",
      " |-- length: double (nullable = true)\n",
      " |-- level: string (nullable = true)\n",
      " |-- location: string (nullable = true)\n",
      " |-- method: string (nullable = true)\n",
      " |-- page: string (nullable = true)\n",
      " |-- registration: long (nullable = true)\n",
      " |-- sessionId: long (nullable = true)\n",
      " |-- song: string (nullable = true)\n",
      " |-- status: long (nullable = true)\n",
      " |-- ts: long (nullable = true)\n",
      " |-- userAgent: string (nullable = true)\n",
      " |-- userId: string (nullable = true)\n",
      "\n"
     ]
    }
   ],
   "source": [
    "df.printSchema()"
   ]
  },
  {
   "cell_type": "code",
   "execution_count": 5,
   "metadata": {
    "scrolled": true
   },
   "outputs": [
    {
     "name": "stdout",
     "output_type": "stream",
     "text": [
      "286500\n"
     ]
    },
    {
     "data": {
      "text/plain": [
       "Row(artist='Martha Tilston', auth='Logged In', firstName='Colin', gender='M', itemInSession=50, lastName='Freeman', length=277.89016, level='paid', location='Bakersfield, CA', method='PUT', page='NextSong', registration=1538173362000, sessionId=29, song='Rockpools', status=200, ts=1538352117000, userAgent='Mozilla/5.0 (Windows NT 6.1; WOW64; rv:31.0) Gecko/20100101 Firefox/31.0', userId='30')"
      ]
     },
     "execution_count": 5,
     "metadata": {},
     "output_type": "execute_result"
    }
   ],
   "source": [
    "print(df.count())\n",
    "df.head()\n"
   ]
  },
  {
   "cell_type": "code",
   "execution_count": 6,
   "metadata": {},
   "outputs": [
    {
     "data": {
      "text/plain": [
       "286500"
      ]
     },
     "execution_count": 6,
     "metadata": {},
     "output_type": "execute_result"
    }
   ],
   "source": [
    "df_valid = df.dropna(how = 'any',subset = ['userId','sessionId'])\n",
    "df_valid.count()"
   ]
  },
  {
   "cell_type": "code",
   "execution_count": 7,
   "metadata": {},
   "outputs": [
    {
     "name": "stdout",
     "output_type": "stream",
     "text": [
      "+------+\n",
      "|userId|\n",
      "+------+\n",
      "|      |\n",
      "|    10|\n",
      "|   100|\n",
      "|100001|\n",
      "|100002|\n",
      "+------+\n",
      "only showing top 5 rows\n",
      "\n"
     ]
    }
   ],
   "source": [
    "df_valid.select('userId').dropDuplicates().sort('userId').show(5)"
   ]
  },
  {
   "cell_type": "code",
   "execution_count": 8,
   "metadata": {},
   "outputs": [
    {
     "name": "stdout",
     "output_type": "stream",
     "text": [
      "+-------------------+\n",
      "|               page|\n",
      "+-------------------+\n",
      "|               Home|\n",
      "|              About|\n",
      "|Submit Registration|\n",
      "|              Login|\n",
      "|           Register|\n",
      "|               Help|\n",
      "|              Error|\n",
      "+-------------------+\n",
      "\n"
     ]
    }
   ],
   "source": [
    "df_valid.filter(df_valid.userId == '').select('page').dropDuplicates().show()"
   ]
  },
  {
   "cell_type": "code",
   "execution_count": 9,
   "metadata": {},
   "outputs": [
    {
     "data": {
      "text/plain": [
       "278154"
      ]
     },
     "execution_count": 9,
     "metadata": {},
     "output_type": "execute_result"
    }
   ],
   "source": [
    "df_valid = df_valid.filter(df_valid.userId != '' )\n",
    "df_valid.count()"
   ]
  },
  {
   "cell_type": "markdown",
   "metadata": {},
   "source": [
    "# 2. Exploratory Data Analysis\n",
    "When you're working with the full dataset, perform EDA by loading a small subset of the data and doing basic manipulations within Spark. In this workspace, you are already provided a small subset of data you can explore.\n"
   ]
  },
  {
   "cell_type": "markdown",
   "metadata": {},
   "source": [
    "## 2.1 preliminary analysis"
   ]
  },
  {
   "cell_type": "code",
   "execution_count": 10,
   "metadata": {},
   "outputs": [],
   "source": [
    "get_hour = udf(lambda x : datetime.datetime.\n",
    "               fromtimestamp(x / 1000.0).hour,IntegerType())\n",
    "get_day = udf(lambda x : datetime.datetime.\n",
    "               fromtimestamp(x / 1000.0).day,IntegerType())\n",
    "get_month = udf(lambda x : datetime.datetime.\n",
    "               fromtimestamp(x / 1000.0).month,IntegerType())\n",
    "get_year = udf(lambda x : datetime.datetime.\n",
    "               fromtimestamp(x / 1000.0).year,IntegerType())\n",
    "\n",
    "df_valid_temp = df_valid.withColumn('reg_month', get_month(df_valid.registration))\\\n",
    "                        .withColumn('reg_year', get_year(df_valid.registration))\\\n",
    "                        .withColumn('year', get_year(df_valid.ts))\\\n",
    "                        .withColumn('month', get_month(df_valid.ts))\\\n",
    "                        .withColumn('day', get_day(df_valid.ts))\\\n",
    "                        .withColumn('hour', get_hour(df_valid.ts))"
   ]
  },
  {
   "cell_type": "code",
   "execution_count": 12,
   "metadata": {
    "scrolled": true
   },
   "outputs": [
    {
     "name": "stdout",
     "output_type": "stream",
     "text": [
      "+--------+---------+\n",
      "|reg_year|reg_month|\n",
      "+--------+---------+\n",
      "|    2018|       10|\n",
      "|    2018|        3|\n",
      "|    2018|        8|\n",
      "|    2018|        5|\n",
      "|    2018|        9|\n",
      "|    2018|        7|\n",
      "|    2018|       11|\n",
      "|    2018|        6|\n",
      "+--------+---------+\n",
      "\n"
     ]
    }
   ],
   "source": [
    "# first see the registration time column\n",
    "df_valid_temp.select(['reg_year','reg_month']).dropDuplicates().show()"
   ]
  },
  {
   "cell_type": "markdown",
   "metadata": {},
   "source": [
    "It shows that all user was registed in 2018. Next, I will plot the count in a bar chart."
   ]
  },
  {
   "cell_type": "code",
   "execution_count": 13,
   "metadata": {},
   "outputs": [],
   "source": [
    "df_plot = df_valid.groupby('reg_month').agg({'reg_month':'max','reg_month':'count'}).\\\n",
    "                            sort('reg_month')"
   ]
  },
  {
   "cell_type": "code",
   "execution_count": 14,
   "metadata": {},
   "outputs": [
    {
     "data": {
      "image/png": "[encoded data removed]",
      "text/plain": [
       "<Figure size 576x432 with 1 Axes>"
      ]
     },
     "metadata": {
      "needs_background": "light"
     },
     "output_type": "display_data"
    }
   ],
   "source": [
    "# first define a function to plot value from a single column for future easy using\n",
    "def single_column_plot(dataframe,title = '',x_label = '', y_label= '',ticks = None, rotation = 0, *args):\n",
    "    plt.figure(figsize = (8,6))\n",
    "    df_plot_pd = dataframe.toPandas()\n",
    "    plt.bar(df_plot_pd.iloc[:,0],df_plot_pd.iloc[:,1])\n",
    "    plt.xlabel(x_label)\n",
    "    plt.ylabel(y_label)\n",
    "    if ticks == None:\n",
    "        plt.xticks(np.array(df_plot_pd.iloc[:,0]),rotation = rotation,*args)\n",
    "    else:\n",
    "        plt.xticks(ticks,rotation = rotation, *args)\n",
    "    plt.title(title)\n",
    "    \n",
    "single_column_plot(df_plot,'Month Registration','Month','Count',[i for i in range(3,12)],0)"
   ]
  },
  {
   "cell_type": "markdown",
   "metadata": {},
   "source": [
    "It shows that the majority users registrated on September, then August and July."
   ]
  },
  {
   "cell_type": "code",
   "execution_count": 15,
   "metadata": {},
   "outputs": [
    {
     "name": "stdout",
     "output_type": "stream",
     "text": [
      "+----+-----+\n",
      "|year|month|\n",
      "+----+-----+\n",
      "|2018|   10|\n",
      "|2018|   12|\n",
      "|2018|   11|\n",
      "+----+-----+\n",
      "\n"
     ]
    }
   ],
   "source": [
    "# check the year and month features\n",
    "df_valid.select(['year','month']).dropDuplicates().show()"
   ]
  },
  {
   "cell_type": "code",
   "execution_count": 16,
   "metadata": {},
   "outputs": [
    {
     "data": {
      "image/png": "[encoded data removed]",
      "text/plain": [
       "<Figure size 576x432 with 1 Axes>"
      ]
     },
     "metadata": {
      "needs_background": "light"
     },
     "output_type": "display_data"
    }
   ],
   "source": [
    "df_plot_month = df_valid.groupby('month').agg({'month':'max','month':'count'}).sort('month')\n",
    "single_column_plot(df_plot_month,'Month recods','Month','Count',[10,11,12],0)\n"
   ]
  },
  {
   "cell_type": "code",
   "execution_count": 19,
   "metadata": {},
   "outputs": [
    {
     "data": {
      "image/png": "[encoded data removed]",
      "text/plain": [
       "<Figure size 576x432 with 1 Axes>"
      ]
     },
     "metadata": {
      "needs_background": "light"
     },
     "output_type": "display_data"
    }
   ],
   "source": [
    "# as there is too few cecords in December, I will check the day feature of Oct and Nov\n",
    "df_plot_day = df_valid.where(df_valid.month.isin([10,11])).groupby('day').agg({'day':'max','day':'count'}).sort('day')\n",
    "single_column_plot(df_plot_day,'day recods','Day','Count')"
   ]
  },
  {
   "cell_type": "code",
   "execution_count": 18,
   "metadata": {},
   "outputs": [
    {
     "data": {
      "image/png": "[encoded data removed]",
      "text/plain": [
       "<Figure size 576x432 with 1 Axes>"
      ]
     },
     "metadata": {
      "needs_background": "light"
     },
     "output_type": "display_data"
    }
   ],
   "source": [
    "# check the hour feature\n",
    "df_plot_hour = df_valid.groupby('hour').agg({'hour':'max','hour':'count'}).sort('hour')\n",
    "single_column_plot(df_plot_hour,'hour recods','Hour','Count')\n"
   ]
  },
  {
   "cell_type": "markdown",
   "metadata": {},
   "source": [
    "- All the records are happend in 2018, from Oct to Dec.\n",
    "- There is a peak and a velley for the trend of the hour feature."
   ]
  },
  {
   "cell_type": "code",
   "execution_count": 20,
   "metadata": {},
   "outputs": [],
   "source": [
    "# take a look at gender and level features\n",
    "\n",
    "gender_level_plot = df_valid.groupby(['gender','level']).count()"
   ]
  },
  {
   "cell_type": "code",
   "execution_count": 22,
   "metadata": {},
   "outputs": [],
   "source": [
    "# take a look at gender and level features\n",
    "# first, set another function to plot with two columns\n",
    "\n",
    "def two_column_plot(dataframe,title = '',x_label = '', y_label= ''):\n",
    "    plt.figure(figsize = (8,6))\n",
    "    df_plot_pd = dataframe.toPandas()\n",
    "    sns.barplot(data = df_plot_pd, x = df_plot_pd.columns[0], y = df_plot_pd.columns[2],\n",
    "            hue = df_plot_pd.columns[1])\n",
    "    plt.xlabel(x_label)\n",
    "    plt.ylabel(y_label)\n",
    "    \n",
    "    plt.title(title)\n"
   ]
  },
  {
   "cell_type": "code",
   "execution_count": 23,
   "metadata": {},
   "outputs": [
    {
     "name": "stdout",
     "output_type": "stream",
     "text": [
      "+------+-----+------+\n",
      "|gender|level| count|\n",
      "+------+-----+------+\n",
      "|     M| free| 26049|\n",
      "|     F| free| 29672|\n",
      "|     F| paid|124906|\n",
      "|     M| paid| 97527|\n",
      "+------+-----+------+\n",
      "\n",
      "None\n"
     ]
    },
    {
     "data": {
      "image/png": "[encoded data removed]",
      "text/plain": [
       "<Figure size 576x432 with 1 Axes>"
      ]
     },
     "metadata": {
      "needs_background": "light"
     },
     "output_type": "display_data"
    }
   ],
   "source": [
    "# total records dividened by Gender and Level\n",
    "gender_level_plot = df_valid.groupby(['gender','level']).count()\n",
    "print(gender_level_plot.show())\n",
    "two_column_plot(gender_level_plot,'Record Count for Gender and Level chart', \n",
    "                'Gender', 'Count')\n"
   ]
  },
  {
   "cell_type": "code",
   "execution_count": 24,
   "metadata": {},
   "outputs": [
    {
     "name": "stdout",
     "output_type": "stream",
     "text": [
      "+------+-----+----------------------+\n",
      "|gender|level|count(DISTINCT userId)|\n",
      "+------+-----+----------------------+\n",
      "|     M| free|                   106|\n",
      "|     F| free|                    89|\n",
      "|     F| paid|                    79|\n",
      "|     M| paid|                    86|\n",
      "+------+-----+----------------------+\n",
      "\n",
      "None\n"
     ]
    },
    {
     "data": {
      "image/png": "[encoded data removed]",
      "text/plain": [
       "<Figure size 576x432 with 1 Axes>"
      ]
     },
     "metadata": {
      "needs_background": "light"
     },
     "output_type": "display_data"
    }
   ],
   "source": [
    "# Distinct user gender and level features\n",
    "dist_gender_level_plot = df_valid.groupby(['gender','level']).agg(countDistinct('userId'))\n",
    "print(dist_gender_level_plot.show())\n",
    "two_column_plot(dist_gender_level_plot,'Users Count for Gender and Level chart', \n",
    "                'Gender', 'Count');"
   ]
  },
  {
   "cell_type": "markdown",
   "metadata": {},
   "source": [
    "We can see, there are more male users of both free and paid levels.\n",
    "\n",
    "But female users are active than male, but not much.\n",
    "\n",
    "And paid users are much more active."
   ]
  },
  {
   "cell_type": "code",
   "execution_count": 96,
   "metadata": {
    "scrolled": false
   },
   "outputs": [
    {
     "data": {
      "image/png": "[encoded data removed]",
      "text/plain": [
       "<Figure size 576x432 with 1 Axes>"
      ]
     },
     "metadata": {
      "needs_background": "light"
     },
     "output_type": "display_data"
    }
   ],
   "source": [
    "# page feature\n",
    "level_plot = df_valid.groupby('page').count()\n",
    "\n",
    "single_column_plot(level_plot,'Page recods','Page','Count',rotation=90);"
   ]
  },
  {
   "cell_type": "code",
   "execution_count": 97,
   "metadata": {},
   "outputs": [
    {
     "data": {
      "image/png": "[encoded data removed]",
      "text/plain": [
       "<Figure size 576x432 with 1 Axes>"
      ]
     },
     "metadata": {
      "needs_background": "light"
     },
     "output_type": "display_data"
    }
   ],
   "source": [
    "# page feature\n",
    "method_plot = df_valid.groupby('method').count()\n",
    "\n",
    "single_column_plot(method_plot,'Methods recods','Method','Count');"
   ]
  },
  {
   "cell_type": "code",
   "execution_count": 116,
   "metadata": {
    "scrolled": false
   },
   "outputs": [
    {
     "data": {
      "image/png": "[encoded data removed]",
      "text/plain": [
       "<Figure size 576x432 with 1 Axes>"
      ]
     },
     "metadata": {
      "needs_background": "light"
     },
     "output_type": "display_data"
    }
   ],
   "source": [
    "itemInSession_plot = df_valid.groupby('userId').avg().select('avg(itemInSession)')\n",
    "itemInSession_plot = itemInSession_plot.toPandas()\n",
    "\n",
    "plt.figure(figsize = (8,6))\n",
    "\n",
    "bins = np.arange(0,400,20)\n",
    "labels = [50*i for i in range(9)]\n",
    "plt.hist(itemInSession_plot['avg(itemInSession)'],bins = bins)\n",
    "plt.xticks(labels)\n",
    "plt.xlabel('Average itemInSession')\n",
    "plt.ylabel('counts')\n",
    "plt.title('Histogram for Average ItemInSession');\n"
   ]
  },
  {
   "cell_type": "code",
   "execution_count": 26,
   "metadata": {},
   "outputs": [
    {
     "data": {
      "image/png": "[encoded data removed]",
      "text/plain": [
       "<Figure size 576x432 with 1 Axes>"
      ]
     },
     "metadata": {
      "needs_background": "light"
     },
     "output_type": "display_data"
    }
   ],
   "source": [
    "# page feature\n",
    "status_plot = df_valid.groupby(df_valid.status.cast('string')).count()\n",
    "\n",
    "single_column_plot(status_plot,'Status recods','Status','Count')"
   ]
  },
  {
   "cell_type": "code",
   "execution_count": 122,
   "metadata": {},
   "outputs": [
    {
     "data": {
      "image/png": "[encoded data removed]",
      "text/plain": [
       "<Figure size 576x432 with 1 Axes>"
      ]
     },
     "metadata": {
      "needs_background": "light"
     },
     "output_type": "display_data"
    }
   ],
   "source": [
    "# auth\n",
    "auth_plot = df_valid.groupby('auth').count()\n",
    "\n",
    "single_column_plot(auth_plot,'auth recods','Auth','Count')"
   ]
  },
  {
   "cell_type": "code",
   "execution_count": 27,
   "metadata": {
    "scrolled": false
   },
   "outputs": [
    {
     "name": "stdout",
     "output_type": "stream",
     "text": [
      "root\n",
      " |-- artist: string (nullable = true)\n",
      " |-- auth: string (nullable = true)\n",
      " |-- firstName: string (nullable = true)\n",
      " |-- gender: string (nullable = true)\n",
      " |-- itemInSession: long (nullable = true)\n",
      " |-- lastName: string (nullable = true)\n",
      " |-- length: double (nullable = true)\n",
      " |-- level: string (nullable = true)\n",
      " |-- location: string (nullable = true)\n",
      " |-- method: string (nullable = true)\n",
      " |-- page: string (nullable = true)\n",
      " |-- registration: long (nullable = true)\n",
      " |-- sessionId: long (nullable = true)\n",
      " |-- song: string (nullable = true)\n",
      " |-- status: long (nullable = true)\n",
      " |-- ts: long (nullable = true)\n",
      " |-- userAgent: string (nullable = true)\n",
      " |-- userId: string (nullable = true)\n",
      " |-- reg_month: integer (nullable = true)\n",
      " |-- reg_year: integer (nullable = true)\n",
      " |-- year: integer (nullable = true)\n",
      " |-- month: integer (nullable = true)\n",
      " |-- day: integer (nullable = true)\n",
      " |-- hour: integer (nullable = true)\n",
      "\n"
     ]
    }
   ],
   "source": [
    "df_valid.printSchema()"
   ]
  },
  {
   "cell_type": "markdown",
   "metadata": {},
   "source": [
    "### 2.2 Define Churn\n",
    "\n",
    "Once you've done some preliminary analysis, create a column `Churn` to use as the label for your model. I suggest using the `Cancellation Confirmation` events to define your churn, which happen for both paid and free users. As a bonus task, you can also look into the `Downgrade` events."
   ]
  },
  {
   "cell_type": "code",
   "execution_count": 13,
   "metadata": {},
   "outputs": [],
   "source": [
    "flag_cancel_confirm_event = udf(lambda x: 1 if x == 'Cancellation Confirmation' else 0,\n",
    "                          IntegerType())"
   ]
  },
  {
   "cell_type": "code",
   "execution_count": 14,
   "metadata": {},
   "outputs": [
    {
     "data": {
      "text/plain": [
       "Row(artist='Martha Tilston', auth='Logged In', firstName='Colin', gender='M', itemInSession=50, lastName='Freeman', length=277.89016, level='paid', location='Bakersfield, CA', method='PUT', page='NextSong', registration=1538173362000, sessionId=29, song='Rockpools', status=200, ts=1538352117000, userAgent='Mozilla/5.0 (Windows NT 6.1; WOW64; rv:31.0) Gecko/20100101 Firefox/31.0', userId='30', cancle_confirmed=0)"
      ]
     },
     "execution_count": 14,
     "metadata": {},
     "output_type": "execute_result"
    }
   ],
   "source": [
    "df_valid = df_valid.withColumn('cancle_confirmed', flag_cancel_confirm_event('page'))\n",
    "df_valid.head()"
   ]
  },
  {
   "cell_type": "code",
   "execution_count": 21,
   "metadata": {
    "scrolled": true
   },
   "outputs": [
    {
     "data": {
      "text/plain": [
       "[Row(artist=None, auth='Logged In', firstName='Darianna', gender='F', itemInSession=34, lastName='Carpenter', length=None, level='free', location='Bridgeport-Stamford-Norwalk, CT', method='PUT', page='Logout', registration=1538016340000, sessionId=187, song=None, status=307, ts=1542823952000, userAgent='\"Mozilla/5.0 (iPhone; CPU iPhone OS 7_1_2 like Mac OS X) AppleWebKit/537.51.2 (KHTML, like Gecko) Version/7.0 Mobile/11D257 Safari/9537.53\"', userId='100010', cancle_confirmed=0, Churn=0),\n",
       " Row(artist='Lily Allen', auth='Logged In', firstName='Darianna', gender='F', itemInSession=33, lastName='Carpenter', length=185.25995, level='free', location='Bridgeport-Stamford-Norwalk, CT', method='PUT', page='NextSong', registration=1538016340000, sessionId=187, song='22', status=200, ts=1542823951000, userAgent='\"Mozilla/5.0 (iPhone; CPU iPhone OS 7_1_2 like Mac OS X) AppleWebKit/537.51.2 (KHTML, like Gecko) Version/7.0 Mobile/11D257 Safari/9537.53\"', userId='100010', cancle_confirmed=0, Churn=0),\n",
       " Row(artist='John Waite', auth='Logged In', firstName='Darianna', gender='F', itemInSession=32, lastName='Carpenter', length=269.76608, level='free', location='Bridgeport-Stamford-Norwalk, CT', method='PUT', page='NextSong', registration=1538016340000, sessionId=187, song='Missing You', status=200, ts=1542823682000, userAgent='\"Mozilla/5.0 (iPhone; CPU iPhone OS 7_1_2 like Mac OS X) AppleWebKit/537.51.2 (KHTML, like Gecko) Version/7.0 Mobile/11D257 Safari/9537.53\"', userId='100010', cancle_confirmed=0, Churn=0),\n",
       " Row(artist='Hermano', auth='Logged In', firstName='Darianna', gender='F', itemInSession=31, lastName='Carpenter', length=115.90485, level='free', location='Bridgeport-Stamford-Norwalk, CT', method='PUT', page='NextSong', registration=1538016340000, sessionId=187, song='Letters From Madrid', status=200, ts=1542823567000, userAgent='\"Mozilla/5.0 (iPhone; CPU iPhone OS 7_1_2 like Mac OS X) AppleWebKit/537.51.2 (KHTML, like Gecko) Version/7.0 Mobile/11D257 Safari/9537.53\"', userId='100010', cancle_confirmed=0, Churn=0),\n",
       " Row(artist=None, auth='Logged In', firstName='Darianna', gender='F', itemInSession=30, lastName='Carpenter', length=None, level='free', location='Bridgeport-Stamford-Norwalk, CT', method='GET', page='Roll Advert', registration=1538016340000, sessionId=187, song=None, status=200, ts=1542823257000, userAgent='\"Mozilla/5.0 (iPhone; CPU iPhone OS 7_1_2 like Mac OS X) AppleWebKit/537.51.2 (KHTML, like Gecko) Version/7.0 Mobile/11D257 Safari/9537.53\"', userId='100010', cancle_confirmed=0, Churn=0)]"
      ]
     },
     "execution_count": 21,
     "metadata": {},
     "output_type": "execute_result"
    }
   ],
   "source": [
    "from pyspark.sql import Window\n",
    "windowval = Window.partitionBy('userId').orderBy(desc('ts')).\\\n",
    "        rangeBetween(Window.unboundedPreceding,0)\n",
    "\n",
    "df_valid = df_valid.withColumn('Churn', sum('cancle_confirmed').over(windowval))\n",
    "\n",
    "df_valid.head(5)"
   ]
  },
  {
   "cell_type": "markdown",
   "metadata": {},
   "source": [
    "I first add a column to flag all Cancellation Confirmation pages. Then build a column to show the churn status.\n",
    "\n",
    "For users who had Cancellation Confirmation, they will be marked as 1 at any time before the Cancellation Confirmation operation.\n",
    "\n",
    "For users who had no relation with Cancellation Confirmation page, will be marked as 0."
   ]
  },
  {
   "cell_type": "code",
   "execution_count": 22,
   "metadata": {},
   "outputs": [],
   "source": [
    "# the last thing to check is if there is any user who had confirmed cancellation, but still\n",
    "# have interactions\n",
    "\n",
    "# get a list of all confirmed cancellation users\n",
    "canceled_Id_list = df_valid.where(df_valid.cancle_confirmed == 1).select('userId').collect()\n",
    "canceled_Id_list = [int(row.userId) for row in canceled_Id_list]\n"
   ]
  },
  {
   "cell_type": "code",
   "execution_count": 23,
   "metadata": {
    "scrolled": true
   },
   "outputs": [
    {
     "data": {
      "text/plain": [
       "[]"
      ]
     },
     "execution_count": 23,
     "metadata": {},
     "output_type": "execute_result"
    }
   ],
   "source": [
    "# check if they have any active after confirm\n",
    "df_valid.sort(desc('ts')).select(['cancle_confirmed','Churn']).\\\n",
    "        where((df_valid.userId.isin(canceled_Id_list))&(df_valid.Churn == 0)).collect()\n"
   ]
  },
  {
   "cell_type": "markdown",
   "metadata": {},
   "source": [
    "It shows that all churned custom has no recods after cancel comfirmed. So I can use Churn as a label to exlpore the data set."
   ]
  },
  {
   "cell_type": "markdown",
   "metadata": {},
   "source": [
    "### 2.3 Explore Data\n",
    "Once you've defined churn, perform some exploratory data analysis to observe the behavior for users who stayed vs users who churned. You can start by exploring aggregates on these two groups of users, observing how much of a specific action they experienced per a certain time unit or number of songs played."
   ]
  },
  {
   "cell_type": "markdown",
   "metadata": {},
   "source": [
    "#### 2.3.2 Preparation\n",
    "\n",
    "Within all features, most numerical features are related to time period, before explore, I want to make the numerical features comparable. I think there are two ways to wrangling:\n",
    "- Divide numerical features by total active time.\n",
    "- Filter actions within a fix time perion, such as the last 14 days."
   ]
  },
  {
   "cell_type": "code",
   "execution_count": 55,
   "metadata": {},
   "outputs": [
    {
     "data": {
      "text/plain": [
       "Row(artist=None, auth='Logged In', firstName='Darianna', gender='F', itemInSession=34, lastName='Carpenter', length=None, level='free', location='Bridgeport-Stamford-Norwalk, CT', method='PUT', page='Logout', registration=1538016340000, sessionId=187, song=None, status=307, ts=1542823952000, userAgent='\"Mozilla/5.0 (iPhone; CPU iPhone OS 7_1_2 like Mac OS X) AppleWebKit/537.51.2 (KHTML, like Gecko) Version/7.0 Mobile/11D257 Safari/9537.53\"', userId='100010', cancle_confirmed=0, Churn=0, active_time=4807612000, active_hour=1335.45, last_ts=1542823952000)"
      ]
     },
     "execution_count": 55,
     "metadata": {},
     "output_type": "execute_result"
    }
   ],
   "source": [
    "# built a new column, to save the lastest timestamp\n",
    "windowval = Window.partitionBy('userId').orderBy(desc('ts')).\\\n",
    "        rangeBetween(Window.unboundedPreceding,0)\n",
    "\n",
    "df_valid = df_valid.withColumn('last_ts', first('ts').over(windowval))\n",
    "df_valid.head()"
   ]
  },
  {
   "cell_type": "code",
   "execution_count": 57,
   "metadata": {},
   "outputs": [
    {
     "data": {
      "text/plain": [
       "Row(artist=None, auth='Logged In', firstName='Darianna', gender='F', itemInSession=34, lastName='Carpenter', length=None, level='free', location='Bridgeport-Stamford-Norwalk, CT', method='PUT', page='Logout', registration=1538016340000, sessionId=187, song=None, status=307, ts=1542823952000, userAgent='\"Mozilla/5.0 (iPhone; CPU iPhone OS 7_1_2 like Mac OS X) AppleWebKit/537.51.2 (KHTML, like Gecko) Version/7.0 Mobile/11D257 Safari/9537.53\"', userId='100010', cancle_confirmed=0, Churn=0, active_time=4807612000, active_hour=1335.45, last_ts=1542823952000)"
      ]
     },
     "execution_count": 57,
     "metadata": {},
     "output_type": "execute_result"
    }
   ],
   "source": [
    "# add two columns, one is the duration between registration and the last active\n",
    "# the second is how many hours\n",
    "df_valid = df_valid.withColumn('active_time',col('last_ts').cast('long') - col('registration').cast('long'))\\\n",
    "                   .withColumn('active_hour',round((col('active_time')/3600000),2))\n",
    "\n",
    "df_valid.head()"
   ]
  },
  {
   "cell_type": "markdown",
   "metadata": {},
   "source": [
    "Then, I get a new column filled with total active hours for all users."
   ]
  },
  {
   "cell_type": "code",
   "execution_count": 77,
   "metadata": {},
   "outputs": [
    {
     "name": "stdout",
     "output_type": "stream",
     "text": [
      "+-------+------------------+\n",
      "|summary|  max(active_hour)|\n",
      "+-------+------------------+\n",
      "|  count|                 5|\n",
      "|   mean|           188.442|\n",
      "| stddev|124.07485309280041|\n",
      "|    min|              7.53|\n",
      "|    max|            314.38|\n",
      "+-------+------------------+\n",
      "\n"
     ]
    }
   ],
   "source": [
    "# Check if it is possible to choose a fix 14 days time frame.\n",
    "active_time_df = df_valid.groupby('userId').agg({'Churn':'max','active_hour':'max'})\n",
    "active_time_df.where(col('max(active_hour)') < 336).describe('max(active_hour)').show()"
   ]
  },
  {
   "cell_type": "markdown",
   "metadata": {},
   "source": [
    "I can see, there are only 5 users' active time is less than 14 days(336 hours), take about 2% of all sample,\n",
    "this is feasible. I will build a datafram only contain the last 14 days records."
   ]
  },
  {
   "cell_type": "code",
   "execution_count": 90,
   "metadata": {},
   "outputs": [],
   "source": [
    "df_valid_14day = df_valid.withColumn('time_till_last', col('last_ts').cast('long')- col('ts').cast('long'))\\\n",
    "                         .withColumn('hour_till_last',round((col('time_till_last')/3600000),2))\n",
    "df_valid_14day = df_valid_14day.where(df_valid_14day.hour_till_last <= 336)"
   ]
  },
  {
   "cell_type": "code",
   "execution_count": 91,
   "metadata": {},
   "outputs": [
    {
     "data": {
      "text/plain": [
       "97388"
      ]
     },
     "execution_count": 91,
     "metadata": {},
     "output_type": "execute_result"
    }
   ],
   "source": [
    "df_valid_14day.count()"
   ]
  },
  {
   "cell_type": "markdown",
   "metadata": {},
   "source": [
    "There are 97388 records within the last 14days for all users.\n",
    "\n",
    "Then I will explore features one by one."
   ]
  },
  {
   "cell_type": "markdown",
   "metadata": {},
   "source": [
    "#### 2.3.2 time\n",
    "Firstly, I will focus on how long this user stayed with sparkify"
   ]
  },
  {
   "cell_type": "code",
   "execution_count": 92,
   "metadata": {
    "scrolled": true
   },
   "outputs": [
    {
     "name": "stdout",
     "output_type": "stream",
     "text": [
      "+----------+---------------------+\n",
      "|max(Churn)|avg(avg(active_hour))|\n",
      "+----------+---------------------+\n",
      "|         0|   2078.8949710982633|\n",
      "|         1|   1375.3436538461624|\n",
      "+----------+---------------------+\n",
      "\n"
     ]
    }
   ],
   "source": [
    "labeled_active_period_df = df_valid.groupby('userId').agg({'Churn':'max','active_hour':'avg'})\n",
    "\n",
    "labeled_active_period_df.groupby('max(Churn)').agg(avg(col('avg(active_hour)'))).show()\n"
   ]
  },
  {
   "cell_type": "code",
   "execution_count": 108,
   "metadata": {},
   "outputs": [
    {
     "name": "stdout",
     "output_type": "stream",
     "text": [
      "+----------+---------------------+\n",
      "|max(Churn)|avg(count(sessionId))|\n",
      "+----------+---------------------+\n",
      "|         0|   1348.4971098265896|\n",
      "|         1|    862.7692307692307|\n",
      "+----------+---------------------+\n",
      "\n"
     ]
    }
   ],
   "source": [
    "action_time_df = df_valid.groupby('userId').agg({'Churn':'max','sessionId':'count'})\n",
    "action_time_df.groupby('max(Churn)').agg(avg(col('count(sessionId)'))).show()\n",
    "\n"
   ]
  },
  {
   "cell_type": "code",
   "execution_count": 109,
   "metadata": {},
   "outputs": [
    {
     "name": "stdout",
     "output_type": "stream",
     "text": [
      "+----------+-------------------+\n",
      "|max(Churn)|avg(action_per_day)|\n",
      "+----------+-------------------+\n",
      "|         0| 16.836157385514802|\n",
      "|         1| 18.931188321622017|\n",
      "+----------+-------------------+\n",
      "\n"
     ]
    }
   ],
   "source": [
    "action_time_df = df_valid.groupby('userId').agg({'Churn':'max','sessionId':'count','active_hour':'max'})\n",
    "action_time_df = action_time_df.withColumn('action_per_day', 24*col('count(sessionId)')/col('max(active_hour)'))\n",
    "action_time_df.groupby('max(Churn)').agg(avg(col('action_per_day'))).show()\n",
    "\n"
   ]
  },
  {
   "cell_type": "code",
   "execution_count": 110,
   "metadata": {},
   "outputs": [
    {
     "name": "stdout",
     "output_type": "stream",
     "text": [
      "+----------+---------------------+\n",
      "|max(Churn)|avg(count(sessionId))|\n",
      "+----------+---------------------+\n",
      "|         0|   409.01734104046244|\n",
      "|         1|    512.0769230769231|\n",
      "+----------+---------------------+\n",
      "\n"
     ]
    }
   ],
   "source": [
    "action_time_df = df_valid_14day.groupby('userId').agg({'Churn':'max','sessionId':'count'})\n",
    "action_time_df.groupby('max(Churn)').agg(avg(col('count(sessionId)'))).show()\n",
    "\n"
   ]
  },
  {
   "cell_type": "code",
   "execution_count": null,
   "metadata": {},
   "outputs": [],
   "source": []
  },
  {
   "cell_type": "code",
   "execution_count": null,
   "metadata": {},
   "outputs": [],
   "source": []
  },
  {
   "cell_type": "code",
   "execution_count": null,
   "metadata": {},
   "outputs": [],
   "source": []
  },
  {
   "cell_type": "markdown",
   "metadata": {},
   "source": [
    "It is obviouly that, churned users have less average active than stayed users, but this can not explane anything."
   ]
  },
  {
   "cell_type": "markdown",
   "metadata": {},
   "source": [
    "#### 2.3.3 Artist\n",
    "\n",
    "This a numerical feature, I will explore the standardized value using the last 14 days feature"
   ]
  },
  {
   "cell_type": "code",
   "execution_count": 94,
   "metadata": {},
   "outputs": [
    {
     "name": "stdout",
     "output_type": "stream",
     "text": [
      "+----------+---------------------------+\n",
      "|max(Churn)|avg(count(DISTINCT artist))|\n",
      "+----------+---------------------------+\n",
      "|         0|          749.7861271676301|\n",
      "|         1|          518.6923076923077|\n",
      "+----------+---------------------------+\n",
      "\n"
     ]
    }
   ],
   "source": [
    "# average of total distinct artist for each users in each group\n",
    "average_artist_df = df_valid.groupby('userId').agg(countDistinct(df_valid.artist),max(df_valid.Churn))\n",
    "\n",
    "average_artist_df.groupby('max(Churn)').agg(avg(col('count(DISTINCT artist)'))).show()"
   ]
  },
  {
   "cell_type": "code",
   "execution_count": 93,
   "metadata": {},
   "outputs": [
    {
     "name": "stdout",
     "output_type": "stream",
     "text": [
      "+----------+---------------------------+\n",
      "|max(Churn)|avg(count(DISTINCT artist))|\n",
      "+----------+---------------------------+\n",
      "|         0|         282.47398843930637|\n",
      "|         1|          337.9230769230769|\n",
      "+----------+---------------------------+\n",
      "\n"
     ]
    }
   ],
   "source": [
    "# average of total distinct artist within last 14 days for each users in each group \n",
    "average_artist_df = df_valid_14day.groupby('userId').agg(countDistinct(df_valid.artist),max(df_valid.Churn))\n",
    "\n",
    "average_artist_df.groupby('max(Churn)').agg(avg(col('count(DISTINCT artist)'))).show()"
   ]
  },
  {
   "cell_type": "markdown",
   "metadata": {},
   "source": [
    "I can see, usually, stayed user selected more artists, but within the latest 14 days, churned user seems to choose more artists.\n",
    "\n",
    "\n",
    "#### 2.3.2 Gender Feature\n",
    "\n",
    "It's a categorical feature, do not need to consider the time frame."
   ]
  },
  {
   "cell_type": "code",
   "execution_count": 59,
   "metadata": {},
   "outputs": [
    {
     "data": {
      "image/png": "[encoded data removed]",
      "text/plain": [
       "<Figure size 576x432 with 1 Axes>"
      ]
     },
     "metadata": {
      "needs_background": "light"
     },
     "output_type": "display_data"
    }
   ],
   "source": [
    "labeled_gender_df = df_valid.groupby('userId').agg({'Churn':'min','Gender':'min'}).\\\n",
    "                        groupby(['min(Gender)','min(Churn)']).count()\n",
    "\n",
    "two_column_plot(labeled_gender_df,'Users Count for Gender and Churn chart', \n",
    "                'Gender', 'Count');\n",
    "\n",
    "\n"
   ]
  },
  {
   "cell_type": "markdown",
   "metadata": {},
   "source": [
    "It shows that male user have a higher churn rate.\n",
    "\n",
    "#### 2.3.3 itemInSession\n",
    "\n",
    "I will see the average itemInSession for each user, and get the average of average for both groups. As I used the average value, I do not need to standard by divide active hours\n",
    "\n",
    "But I will check the value within 14 days."
   ]
  },
  {
   "cell_type": "code",
   "execution_count": 124,
   "metadata": {},
   "outputs": [
    {
     "name": "stdout",
     "output_type": "stream",
     "text": [
      "+----------+-----------------------+\n",
      "|max(Churn)|avg(avg(itemInSession))|\n",
      "+----------+-----------------------+\n",
      "|         0|      89.13463393625382|\n",
      "|         1|      72.39591226205862|\n",
      "+----------+-----------------------+\n",
      "\n"
     ]
    }
   ],
   "source": [
    "labeled_itemInSession_df = df_valid.groupby('userId').agg({'Churn':'max','itemInSession':'avg'})\n",
    "\n",
    "labeled_itemInSession_df.groupby('max(Churn)').agg(avg(col('avg(itemInSession)'))).show()\n"
   ]
  },
  {
   "cell_type": "code",
   "execution_count": 95,
   "metadata": {},
   "outputs": [
    {
     "name": "stdout",
     "output_type": "stream",
     "text": [
      "+----------+-----------------------+\n",
      "|max(Churn)|avg(avg(itemInSession))|\n",
      "+----------+-----------------------+\n",
      "|         0|      80.86287086912236|\n",
      "|         1|      76.49014880799638|\n",
      "+----------+-----------------------+\n",
      "\n"
     ]
    }
   ],
   "source": [
    "labeled_itemInSession_df = df_valid_14day.groupby('userId').agg({'Churn':'max','itemInSession':'avg'})\n",
    "\n",
    "labeled_itemInSession_df.groupby('max(Churn)').agg(avg(col('avg(itemInSession)'))).show()\n",
    "\n"
   ]
  },
  {
   "cell_type": "markdown",
   "metadata": {},
   "source": [
    "The average itemInSession have a small difference betweent two groups.\n",
    "\n",
    "#### 2.3.4 length"
   ]
  },
  {
   "cell_type": "code",
   "execution_count": 133,
   "metadata": {},
   "outputs": [
    {
     "name": "stdout",
     "output_type": "stream",
     "text": [
      "+------+\n",
      "|length|\n",
      "+------+\n",
      "|  null|\n",
      "+------+\n",
      "\n"
     ]
    }
   ],
   "source": [
    "df_valid.where(df_valid.page != 'NextSong').select('length').dropDuplicates().show()"
   ]
  },
  {
   "cell_type": "code",
   "execution_count": 148,
   "metadata": {},
   "outputs": [
    {
     "name": "stdout",
     "output_type": "stream",
     "text": [
      "+----------+------------------+\n",
      "|max(Churn)|  avg(avg(length))|\n",
      "+----------+------------------+\n",
      "|         0| 249.1412535406481|\n",
      "|         1|248.30786496247958|\n",
      "+----------+------------------+\n",
      "\n"
     ]
    }
   ],
   "source": [
    "labeled_length_df = df_valid.where(df_valid.page == 'NextSong').groupby('userId').agg({'Churn':'max','length':'avg'})\n",
    "\n",
    "labeled_length_df.groupby('max(Churn)').agg(avg(col('avg(length)'))).show()\n",
    "\n"
   ]
  },
  {
   "cell_type": "code",
   "execution_count": 96,
   "metadata": {},
   "outputs": [
    {
     "name": "stdout",
     "output_type": "stream",
     "text": [
      "+----------+------------------+\n",
      "|max(Churn)|  avg(avg(length))|\n",
      "+----------+------------------+\n",
      "|         0|252.10475852557977|\n",
      "|         1|247.53847899223172|\n",
      "+----------+------------------+\n",
      "\n"
     ]
    }
   ],
   "source": [
    "labeled_length_df = df_valid_14day.where(df_valid_14day.page == 'NextSong').groupby('userId').agg({'Churn':'max','length':'avg'})\n",
    "\n",
    "labeled_length_df.groupby('max(Churn)').agg(avg(col('avg(length)'))).show()\n",
    "\n"
   ]
  },
  {
   "cell_type": "markdown",
   "metadata": {},
   "source": [
    "only nextsong page have length reocrds, it seems that there are no sinifigent difference in song length between two groups. "
   ]
  },
  {
   "cell_type": "markdown",
   "metadata": {},
   "source": [
    "#### 2.3.6 song\n",
    "1. count of distinct songs"
   ]
  },
  {
   "cell_type": "code",
   "execution_count": 97,
   "metadata": {},
   "outputs": [
    {
     "name": "stdout",
     "output_type": "stream",
     "text": [
      "+----------+-------------------------+\n",
      "|max(Churn)|avg(count(DISTINCT song))|\n",
      "+----------+-------------------------+\n",
      "|         0|        975.7687861271677|\n",
      "|         1|        638.3653846153846|\n",
      "+----------+-------------------------+\n",
      "\n"
     ]
    }
   ],
   "source": [
    "# average of distinct songs for each users in each group\n",
    "average_song_df = df_valid.groupby('userId').agg(countDistinct(df_valid.song),max(df_valid.Churn))\n",
    "\n",
    "average_song_df.groupby('max(Churn)').agg(avg(col('count(DISTINCT song)'))).show()"
   ]
  },
  {
   "cell_type": "code",
   "execution_count": 100,
   "metadata": {
    "scrolled": true
   },
   "outputs": [
    {
     "name": "stdout",
     "output_type": "stream",
     "text": [
      "+----------+-----------------------+\n",
      "|max(Churn)|avg(Dinst_song_per_day)|\n",
      "+----------+-----------------------+\n",
      "|         0|     0.5085173847659381|\n",
      "|         1|     0.5883730173023729|\n",
      "+----------+-----------------------+\n",
      "\n"
     ]
    }
   ],
   "source": [
    "average_song_df = df_valid.groupby('userId').agg(countDistinct(df_valid.song),max(df_valid.Churn),max(df_valid.active_hour))\n",
    "average_song_df = average_song_df.withColumn('Dinst_song_per_day', col('count(DISTINCT song)')/col('max(active_hour)'))\n",
    "average_song_df.groupby('max(Churn)').agg(avg(col('Dinst_song_per_day'))).show()\n"
   ]
  },
  {
   "cell_type": "code",
   "execution_count": 101,
   "metadata": {},
   "outputs": [
    {
     "name": "stdout",
     "output_type": "stream",
     "text": [
      "+----------+-------------------------+\n",
      "|max(Churn)|avg(count(DISTINCT song))|\n",
      "+----------+-------------------------+\n",
      "|         0|        321.0982658959538|\n",
      "|         1|        392.1923076923077|\n",
      "+----------+-------------------------+\n",
      "\n"
     ]
    }
   ],
   "source": [
    "average_song_df = df_valid_14day.groupby('userId').agg(countDistinct(df_valid.song),max(df_valid.Churn))\n",
    "\n",
    "average_song_df.groupby('max(Churn)').agg(avg(col('count(DISTINCT song)'))).show()"
   ]
  },
  {
   "cell_type": "markdown",
   "metadata": {},
   "source": [
    "2. count of songs"
   ]
  },
  {
   "cell_type": "code",
   "execution_count": 31,
   "metadata": {},
   "outputs": [
    {
     "name": "stdout",
     "output_type": "stream",
     "text": [
      "+----------+------------------+\n",
      "|max(Churn)|  avg(count(song))|\n",
      "+----------+------------------+\n",
      "|         0|1108.1734104046243|\n",
      "|         1| 699.8846153846154|\n",
      "+----------+------------------+\n",
      "\n"
     ]
    }
   ],
   "source": [
    "labeled_song_df = df_valid.groupby('userId').agg({'Churn':'max','song':'count'})\n",
    "\n",
    "labeled_song_df.groupby('max(Churn)').agg(avg(col('count(song)'))).show()\n",
    "\n"
   ]
  },
  {
   "cell_type": "code",
   "execution_count": 102,
   "metadata": {},
   "outputs": [
    {
     "name": "stdout",
     "output_type": "stream",
     "text": [
      "+----------+------------------+\n",
      "|max(Churn)| avg(song_per_day)|\n",
      "+----------+------------------+\n",
      "|         0|0.5747182792468141|\n",
      "|         1|0.6418878330962166|\n",
      "+----------+------------------+\n",
      "\n"
     ]
    }
   ],
   "source": [
    "labeled_song_df = df_valid.groupby('userId').agg({'Churn':'max','song':'count','active_hour':'max'})\n",
    "labeled_song_df = labeled_song_df.withColumn('song_per_day', col('count(song)')/col('max(active_hour)'))\n",
    "labeled_song_df.groupby('max(Churn)').agg(avg(col('song_per_day'))).show()\n"
   ]
  },
  {
   "cell_type": "code",
   "execution_count": 103,
   "metadata": {},
   "outputs": [
    {
     "name": "stdout",
     "output_type": "stream",
     "text": [
      "+----------+------------------+\n",
      "|max(Churn)|  avg(count(song))|\n",
      "+----------+------------------+\n",
      "|         0| 337.9421965317919|\n",
      "|         1|417.21153846153845|\n",
      "+----------+------------------+\n",
      "\n"
     ]
    }
   ],
   "source": [
    "labeled_song_df = df_valid_14day.groupby('userId').agg({'Churn':'max','song':'count'})\n",
    "\n",
    "labeled_song_df.groupby('max(Churn)').agg(avg(col('count(song)'))).show()\n",
    "\n"
   ]
  },
  {
   "cell_type": "markdown",
   "metadata": {},
   "source": [
    "It shows a great difference of average play times by a single user between two groups. Similar to artist feature, churned user seems to listen more songs than stayed users in an certain period.\n",
    "\n",
    "#### 2.3.7 page items"
   ]
  },
  {
   "cell_type": "code",
   "execution_count": 107,
   "metadata": {
    "scrolled": true
   },
   "outputs": [
    {
     "name": "stdout",
     "output_type": "stream",
     "text": [
      "Analysis \"Cancel\"\n",
      "----------\n",
      "Full_data\n",
      "+----------+----------------+\n",
      "|max(Churn)|avg(sum(Cancel))|\n",
      "+----------+----------------+\n",
      "|         0|             0.0|\n",
      "|         1|             1.0|\n",
      "+----------+----------------+\n",
      "\n",
      "None\n",
      "time_standard_full_data\n",
      "+----------+--------------------+\n",
      "|max(Churn)|        avg(new_col)|\n",
      "+----------+--------------------+\n",
      "|         0|                 0.0|\n",
      "|         1|0.001229235348726...|\n",
      "+----------+--------------------+\n",
      "\n",
      "None\n",
      "14day_data\n",
      "+----------+----------------+\n",
      "|max(Churn)|avg(sum(Cancel))|\n",
      "+----------+----------------+\n",
      "|         0|             0.0|\n",
      "|         1|             1.0|\n",
      "+----------+----------------+\n",
      "\n",
      "None\n",
      "******************************\n",
      "\n",
      "\n",
      "Analysis \"Submit Downgrade\"\n",
      "----------\n",
      "Full_data\n",
      "+----------+--------------------------+\n",
      "|max(Churn)|avg(sum(Submit Downgrade))|\n",
      "+----------+--------------------------+\n",
      "|         0|       0.31213872832369943|\n",
      "|         1|       0.17307692307692307|\n",
      "+----------+--------------------------+\n",
      "\n",
      "None\n",
      "time_standard_full_data\n",
      "+----------+--------------------+\n",
      "|max(Churn)|        avg(new_col)|\n",
      "+----------+--------------------+\n",
      "|         0|1.487650365330681...|\n",
      "|         1|1.159469061099600...|\n",
      "+----------+--------------------+\n",
      "\n",
      "None\n",
      "14day_data\n",
      "+----------+--------------------------+\n",
      "|max(Churn)|avg(sum(Submit Downgrade))|\n",
      "+----------+--------------------------+\n",
      "|         0|      0.057803468208092484|\n",
      "|         1|       0.09615384615384616|\n",
      "+----------+--------------------------+\n",
      "\n",
      "None\n",
      "******************************\n",
      "\n",
      "\n",
      "Analysis \"Thumbs Down\"\n",
      "----------\n",
      "Full_data\n",
      "+----------+---------------------+\n",
      "|max(Churn)|avg(sum(Thumbs Down))|\n",
      "+----------+---------------------+\n",
      "|         0|    11.84971098265896|\n",
      "|         1|    9.538461538461538|\n",
      "+----------+---------------------+\n",
      "\n",
      "None\n",
      "time_standard_full_data\n",
      "+----------+--------------------+\n",
      "|max(Churn)|        avg(new_col)|\n",
      "+----------+--------------------+\n",
      "|         0|0.006066193586897649|\n",
      "|         1|0.008716513588551881|\n",
      "+----------+--------------------+\n",
      "\n",
      "None\n",
      "14day_data\n",
      "+----------+---------------------+\n",
      "|max(Churn)|avg(sum(Thumbs Down))|\n",
      "+----------+---------------------+\n",
      "|         0|    3.393063583815029|\n",
      "|         1|    5.519230769230769|\n",
      "+----------+---------------------+\n",
      "\n",
      "None\n",
      "******************************\n",
      "\n",
      "\n",
      "Analysis \"Home\"\n",
      "----------\n",
      "Full_data\n",
      "+----------+-----------------+\n",
      "|max(Churn)|   avg(sum(Home))|\n",
      "+----------+-----------------+\n",
      "|         0|48.61271676300578|\n",
      "|         1|32.15384615384615|\n",
      "+----------+-----------------+\n",
      "\n",
      "None\n",
      "time_standard_full_data\n",
      "+----------+--------------------+\n",
      "|max(Churn)|        avg(new_col)|\n",
      "+----------+--------------------+\n",
      "|         0|0.025903245506289314|\n",
      "|         1|0.028765404392350133|\n",
      "+----------+--------------------+\n",
      "\n",
      "None\n",
      "14day_data\n",
      "+----------+------------------+\n",
      "|max(Churn)|    avg(sum(Home))|\n",
      "+----------+------------------+\n",
      "|         0| 14.54913294797688|\n",
      "|         1|18.673076923076923|\n",
      "+----------+------------------+\n",
      "\n",
      "None\n",
      "******************************\n",
      "\n",
      "\n",
      "Analysis \"Downgrade\"\n",
      "----------\n",
      "Full_data\n",
      "+----------+-------------------+\n",
      "|max(Churn)|avg(sum(Downgrade))|\n",
      "+----------+-------------------+\n",
      "|         0|   9.93063583815029|\n",
      "|         1|  6.480769230769231|\n",
      "+----------+-------------------+\n",
      "\n",
      "None\n",
      "time_standard_full_data\n",
      "+----------+--------------------+\n",
      "|max(Churn)|        avg(new_col)|\n",
      "+----------+--------------------+\n",
      "|         0|0.005134453963080142|\n",
      "|         1|0.006439779803932002|\n",
      "+----------+--------------------+\n",
      "\n",
      "None\n",
      "14day_data\n",
      "+----------+-------------------+\n",
      "|max(Churn)|avg(sum(Downgrade))|\n",
      "+----------+-------------------+\n",
      "|         0| 3.1907514450867054|\n",
      "|         1|  4.480769230769231|\n",
      "+----------+-------------------+\n",
      "\n",
      "None\n",
      "******************************\n",
      "\n",
      "\n",
      "Analysis \"Roll Advert\"\n",
      "----------\n",
      "Full_data\n",
      "+----------+---------------------+\n",
      "|max(Churn)|avg(sum(Roll Advert))|\n",
      "+----------+---------------------+\n",
      "|         0|    17.14450867052023|\n",
      "|         1|   18.596153846153847|\n",
      "+----------+---------------------+\n",
      "\n",
      "None\n",
      "time_standard_full_data\n",
      "+----------+--------------------+\n",
      "|max(Churn)|        avg(new_col)|\n",
      "+----------+--------------------+\n",
      "|         0|0.009605695257923564|\n",
      "|         1| 0.01510177758574023|\n",
      "+----------+--------------------+\n",
      "\n",
      "None\n",
      "14day_data\n",
      "+----------+---------------------+\n",
      "|max(Churn)|avg(sum(Roll Advert))|\n",
      "+----------+---------------------+\n",
      "|         0|    4.566473988439307|\n",
      "|         1|    8.615384615384615|\n",
      "+----------+---------------------+\n",
      "\n",
      "None\n",
      "******************************\n",
      "\n",
      "\n",
      "Analysis \"Logout\"\n",
      "----------\n",
      "Full_data\n",
      "+----------+------------------+\n",
      "|max(Churn)|  avg(sum(Logout))|\n",
      "+----------+------------------+\n",
      "|         0| 15.45086705202312|\n",
      "|         1|10.634615384615385|\n",
      "+----------+------------------+\n",
      "\n",
      "None\n",
      "time_standard_full_data\n",
      "+----------+--------------------+\n",
      "|max(Churn)|        avg(new_col)|\n",
      "+----------+--------------------+\n",
      "|         0| 0.00801203988648521|\n",
      "|         1|0.009618041276945606|\n",
      "+----------+--------------------+\n",
      "\n",
      "None\n",
      "14day_data\n",
      "+----------+------------------+\n",
      "|max(Churn)|  avg(sum(Logout))|\n",
      "+----------+------------------+\n",
      "|         0|4.6531791907514455|\n",
      "|         1| 6.173076923076923|\n",
      "+----------+------------------+\n",
      "\n",
      "None\n",
      "******************************\n",
      "\n",
      "\n",
      "Analysis \"Save Settings\"\n",
      "----------\n",
      "Full_data\n",
      "+----------+-----------------------+\n",
      "|max(Churn)|avg(sum(Save Settings))|\n",
      "+----------+-----------------------+\n",
      "|         0|     1.4566473988439306|\n",
      "|         1|     1.1153846153846154|\n",
      "+----------+-----------------------+\n",
      "\n",
      "None\n",
      "time_standard_full_data\n",
      "+----------+--------------------+\n",
      "|max(Churn)|        avg(new_col)|\n",
      "+----------+--------------------+\n",
      "|         0| 7.35391791388392E-4|\n",
      "|         1|9.801269340562078E-4|\n",
      "+----------+--------------------+\n",
      "\n",
      "None\n",
      "14day_data\n",
      "+----------+-----------------------+\n",
      "|max(Churn)|avg(sum(Save Settings))|\n",
      "+----------+-----------------------+\n",
      "|         0|     0.5202312138728323|\n",
      "|         1|     0.6153846153846154|\n",
      "+----------+-----------------------+\n",
      "\n",
      "None\n",
      "******************************\n",
      "\n",
      "\n",
      "Analysis \"Cancellation Confirmation\"\n",
      "----------\n",
      "Full_data\n",
      "+----------+-----------------------------------+\n",
      "|max(Churn)|avg(sum(Cancellation Confirmation))|\n",
      "+----------+-----------------------------------+\n",
      "|         0|                                0.0|\n",
      "|         1|                                1.0|\n",
      "+----------+-----------------------------------+\n",
      "\n",
      "None\n",
      "time_standard_full_data\n",
      "+----------+--------------------+\n",
      "|max(Churn)|        avg(new_col)|\n",
      "+----------+--------------------+\n",
      "|         0|                 0.0|\n",
      "|         1|0.001229235348726...|\n",
      "+----------+--------------------+\n",
      "\n",
      "None\n",
      "14day_data\n",
      "+----------+-----------------------------------+\n",
      "|max(Churn)|avg(sum(Cancellation Confirmation))|\n",
      "+----------+-----------------------------------+\n",
      "|         0|                                0.0|\n",
      "|         1|                                1.0|\n",
      "+----------+-----------------------------------+\n",
      "\n",
      "None\n",
      "******************************\n",
      "\n",
      "\n",
      "Analysis \"About\"\n",
      "----------\n",
      "Full_data\n",
      "+----------+------------------+\n",
      "|max(Churn)|   avg(sum(About))|\n",
      "+----------+------------------+\n",
      "|         0|  2.53757225433526|\n",
      "|         1|1.0769230769230769|\n",
      "+----------+------------------+\n",
      "\n",
      "None\n",
      "time_standard_full_data\n",
      "+----------+--------------------+\n",
      "|max(Churn)|        avg(new_col)|\n",
      "+----------+--------------------+\n",
      "|         0|0.001367097958561...|\n",
      "|         1|9.655422647155515E-4|\n",
      "+----------+--------------------+\n",
      "\n",
      "None\n",
      "14day_data\n",
      "+----------+------------------+\n",
      "|max(Churn)|   avg(sum(About))|\n",
      "+----------+------------------+\n",
      "|         0|0.8034682080924855|\n",
      "|         1|0.6346153846153846|\n",
      "+----------+------------------+\n",
      "\n",
      "None\n",
      "******************************\n",
      "\n",
      "\n",
      "Analysis \"Settings\"\n",
      "----------\n",
      "Full_data\n",
      "+----------+------------------+\n",
      "|max(Churn)|avg(sum(Settings))|\n",
      "+----------+------------------+\n",
      "|         0| 7.190751445086705|\n",
      "|         1|5.1923076923076925|\n",
      "+----------+------------------+\n",
      "\n",
      "None\n",
      "time_standard_full_data\n",
      "+----------+--------------------+\n",
      "|max(Churn)|        avg(new_col)|\n",
      "+----------+--------------------+\n",
      "|         0|0.004491951300724585|\n",
      "|         1|0.004965035313518002|\n",
      "+----------+--------------------+\n",
      "\n",
      "None\n",
      "14day_data\n",
      "+----------+------------------+\n",
      "|max(Churn)|avg(sum(Settings))|\n",
      "+----------+------------------+\n",
      "|         0| 2.421965317919075|\n",
      "|         1|3.1346153846153846|\n",
      "+----------+------------------+\n",
      "\n",
      "None\n",
      "******************************\n",
      "\n",
      "\n",
      "Analysis \"Add to Playlist\"\n",
      "----------\n",
      "Full_data\n"
     ]
    },
    {
     "name": "stdout",
     "output_type": "stream",
     "text": [
      "+----------+-------------------------+\n",
      "|max(Churn)|avg(sum(Add to Playlist))|\n",
      "+----------+-------------------------+\n",
      "|         0|       31.722543352601157|\n",
      "|         1|        19.96153846153846|\n",
      "+----------+-------------------------+\n",
      "\n",
      "None\n",
      "time_standard_full_data\n",
      "+----------+--------------------+\n",
      "|max(Churn)|        avg(new_col)|\n",
      "+----------+--------------------+\n",
      "|         0|0.016403148815497287|\n",
      "|         1|0.018704714238400918|\n",
      "+----------+--------------------+\n",
      "\n",
      "None\n",
      "14day_data\n",
      "+----------+-------------------------+\n",
      "|max(Churn)|avg(sum(Add to Playlist))|\n",
      "+----------+-------------------------+\n",
      "|         0|         9.31791907514451|\n",
      "|         1|       11.807692307692308|\n",
      "+----------+-------------------------+\n",
      "\n",
      "None\n",
      "******************************\n",
      "\n",
      "\n",
      "Analysis \"Add Friend\"\n",
      "----------\n",
      "Full_data\n",
      "+----------+--------------------+\n",
      "|max(Churn)|avg(sum(Add Friend))|\n",
      "+----------+--------------------+\n",
      "|         0|  21.046242774566473|\n",
      "|         1|   12.23076923076923|\n",
      "+----------+--------------------+\n",
      "\n",
      "None\n",
      "time_standard_full_data\n",
      "+----------+--------------------+\n",
      "|max(Churn)|        avg(new_col)|\n",
      "+----------+--------------------+\n",
      "|         0|0.010904122517610923|\n",
      "|         1|0.011285986769001848|\n",
      "+----------+--------------------+\n",
      "\n",
      "None\n",
      "14day_data\n",
      "+----------+--------------------+\n",
      "|max(Churn)|avg(sum(Add Friend))|\n",
      "+----------+--------------------+\n",
      "|         0|   6.624277456647399|\n",
      "|         1|   7.134615384615385|\n",
      "+----------+--------------------+\n",
      "\n",
      "None\n",
      "******************************\n",
      "\n",
      "\n",
      "Analysis \"NextSong\"\n",
      "----------\n",
      "Full_data\n",
      "+----------+------------------+\n",
      "|max(Churn)|avg(sum(NextSong))|\n",
      "+----------+------------------+\n",
      "|         0|1108.1734104046243|\n",
      "|         1| 699.8846153846154|\n",
      "+----------+------------------+\n",
      "\n",
      "None\n",
      "time_standard_full_data\n",
      "+----------+------------------+\n",
      "|max(Churn)|      avg(new_col)|\n",
      "+----------+------------------+\n",
      "|         0|0.5747182792468141|\n",
      "|         1|0.6418878330962166|\n",
      "+----------+------------------+\n",
      "\n",
      "None\n",
      "14day_data\n",
      "+----------+------------------+\n",
      "|max(Churn)|avg(sum(NextSong))|\n",
      "+----------+------------------+\n",
      "|         0| 337.9421965317919|\n",
      "|         1|417.21153846153845|\n",
      "+----------+------------------+\n",
      "\n",
      "None\n",
      "******************************\n",
      "\n",
      "\n",
      "Analysis \"Thumbs Up\"\n",
      "----------\n",
      "Full_data\n",
      "+----------+-------------------+\n",
      "|max(Churn)|avg(sum(Thumbs Up))|\n",
      "+----------+-------------------+\n",
      "|         0|  61.80346820809248|\n",
      "|         1|              35.75|\n",
      "+----------+-------------------+\n",
      "\n",
      "None\n",
      "time_standard_full_data\n",
      "+----------+--------------------+\n",
      "|max(Churn)|        avg(new_col)|\n",
      "+----------+--------------------+\n",
      "|         0|0.032116030303839325|\n",
      "|         1| 0.03164149901818165|\n",
      "+----------+--------------------+\n",
      "\n",
      "None\n",
      "14day_data\n",
      "+----------+-------------------+\n",
      "|max(Churn)|avg(sum(Thumbs Up))|\n",
      "+----------+-------------------+\n",
      "|         0| 17.895953757225435|\n",
      "|         1|              21.75|\n",
      "+----------+-------------------+\n",
      "\n",
      "None\n",
      "******************************\n",
      "\n",
      "\n",
      "Analysis \"Help\"\n",
      "----------\n",
      "Full_data\n",
      "+----------+-----------------+\n",
      "|max(Churn)|   avg(sum(Help))|\n",
      "+----------+-----------------+\n",
      "|         0|7.023121387283237|\n",
      "|         1|4.596153846153846|\n",
      "+----------+-----------------+\n",
      "\n",
      "None\n",
      "time_standard_full_data\n",
      "+----------+--------------------+\n",
      "|max(Churn)|        avg(new_col)|\n",
      "+----------+--------------------+\n",
      "|         0|0.003674130495438...|\n",
      "|         1| 0.00414795871279399|\n",
      "+----------+--------------------+\n",
      "\n",
      "None\n",
      "14day_data\n",
      "+----------+------------------+\n",
      "|max(Churn)|    avg(sum(Help))|\n",
      "+----------+------------------+\n",
      "|         0|2.1560693641618496|\n",
      "|         1| 2.576923076923077|\n",
      "+----------+------------------+\n",
      "\n",
      "None\n",
      "******************************\n",
      "\n",
      "\n",
      "Analysis \"Upgrade\"\n",
      "----------\n",
      "Full_data\n",
      "+----------+------------------+\n",
      "|max(Churn)| avg(sum(Upgrade))|\n",
      "+----------+------------------+\n",
      "|         0|2.2369942196531793|\n",
      "|         1|2.1538461538461537|\n",
      "+----------+------------------+\n",
      "\n",
      "None\n",
      "time_standard_full_data\n",
      "+----------+--------------------+\n",
      "|max(Churn)|        avg(new_col)|\n",
      "+----------+--------------------+\n",
      "|         0|0.001167213217767...|\n",
      "|         1|0.001924249680253...|\n",
      "+----------+--------------------+\n",
      "\n",
      "None\n",
      "14day_data\n",
      "+----------+------------------+\n",
      "|max(Churn)| avg(sum(Upgrade))|\n",
      "+----------+------------------+\n",
      "|         0|0.5086705202312138|\n",
      "|         1|0.9807692307692307|\n",
      "+----------+------------------+\n",
      "\n",
      "None\n",
      "******************************\n",
      "\n",
      "\n",
      "Analysis \"Error\"\n",
      "----------\n",
      "Full_data\n",
      "+----------+------------------+\n",
      "|max(Churn)|   avg(sum(Error))|\n",
      "+----------+------------------+\n",
      "|         0|1.2716763005780347|\n",
      "|         1|0.6153846153846154|\n",
      "+----------+------------------+\n",
      "\n",
      "None\n",
      "time_standard_full_data\n",
      "+----------+--------------------+\n",
      "|max(Churn)|        avg(new_col)|\n",
      "+----------+--------------------+\n",
      "|         0|6.837601345333561E-4|\n",
      "|         1| 4.90683714580488E-4|\n",
      "+----------+--------------------+\n",
      "\n",
      "None\n",
      "14day_data\n",
      "+----------+------------------+\n",
      "|max(Churn)|   avg(sum(Error))|\n",
      "+----------+------------------+\n",
      "|         0|0.3063583815028902|\n",
      "|         1|0.4230769230769231|\n",
      "+----------+------------------+\n",
      "\n",
      "None\n",
      "******************************\n",
      "\n",
      "\n",
      "Analysis \"Submit Upgrade\"\n",
      "----------\n",
      "Full_data\n",
      "+----------+------------------------+\n",
      "|max(Churn)|avg(sum(Submit Upgrade))|\n",
      "+----------+------------------------+\n",
      "|         0|      0.7341040462427746|\n",
      "|         1|      0.6153846153846154|\n",
      "+----------+------------------------+\n",
      "\n",
      "None\n",
      "time_standard_full_data\n",
      "+----------+--------------------+\n",
      "|max(Churn)|        avg(new_col)|\n",
      "+----------+--------------------+\n",
      "|         0|3.750387103989201E-4|\n",
      "|         1|5.899494081143312E-4|\n",
      "+----------+--------------------+\n",
      "\n",
      "None\n",
      "14day_data\n",
      "+----------+------------------------+\n",
      "|max(Churn)|avg(sum(Submit Upgrade))|\n",
      "+----------+------------------------+\n",
      "|         0|     0.10982658959537572|\n",
      "|         1|                    0.25|\n",
      "+----------+------------------------+\n",
      "\n",
      "None\n",
      "******************************\n",
      "\n",
      "\n"
     ]
    }
   ],
   "source": [
    "def page_item_func(item):\n",
    "\n",
    "    print('Analysis \"'+item +'\"')\n",
    "    print('-'*10)\n",
    "\n",
    "    func = udf(lambda x : 1 if x == item else 0, IntegerType())\n",
    "    temp_df = df_valid.withColumn(item,func('page'))\n",
    "    temp_df1 = temp_df.groupby('userId').agg({'Churn':'max',item:'sum'})\n",
    "    print('Full_data')\n",
    "    print(temp_df1.groupby('max(Churn)').agg(avg(col('sum('+item+')'))).show())\n",
    "\n",
    "    temp_df2 = temp_df.groupby('userId').agg({'Churn':'max',item:'sum','active_hour':'max'})\n",
    "    temp_df2 = temp_df2.withColumn('new_col', col('sum('+item+')')/col('max(active_hour)'))\n",
    "    print('time_standard_full_data')\n",
    "    print(temp_df2.groupby('max(Churn)').agg(avg(col('new_col'))).show())\n",
    "\n",
    "    temp_df3 = df_valid_14day.withColumn(item,func('page'))\n",
    "    temp_df3 = temp_df3.groupby('userId').agg({'Churn':'max',item:'sum'})\n",
    "    print('14day_data')\n",
    "    print(temp_df3.groupby('max(Churn)').agg(avg(col('sum('+item+')'))).show())\n",
    "\n",
    "    print('*'*30 +'\\n\\n')\n",
    "\n",
    "    \n",
    "    \n",
    "page_item = df_valid.select('page').dropDuplicates().collect()\n",
    "page_list = [item.page for item in page_item]  \n",
    "\n",
    "for item in page_list:\n",
    "    page_item_func(item)\n",
    "\n",
    "    "
   ]
  },
  {
   "cell_type": "code",
   "execution_count": null,
   "metadata": {},
   "outputs": [],
   "source": [
    "def page_item_func_standard(item, dataframe = df_valid):\n",
    "    func = udf(lambda x : 1 if x == item else 0, IntegerType())\n",
    "    temp_df = dataframe.withColumn(item,func('page'))\n",
    "    temp_df = temp_df.groupby('userId').agg({'Churn':'max',item:'sum'})\n",
    "    print(item)\n",
    "    print(temp_df.groupby('max(Churn)').agg(avg(col('sum('+item+')'))).show())\n",
    "    print('-----------------------\\n\\n')\n",
    "    \n",
    "page_item = df_valid.select('page').dropDuplicates().collect()\n",
    "page_list = [item.page for item in page_item]  \n",
    "\n",
    "for item in page_list:\n",
    "    page_item_func(item)\n",
    "\n"
   ]
  },
  {
   "cell_type": "code",
   "execution_count": 53,
   "metadata": {},
   "outputs": [
    {
     "name": "stdout",
     "output_type": "stream",
     "text": [
      "root\n",
      " |-- artist: string (nullable = true)\n",
      " |-- auth: string (nullable = true)\n",
      " |-- firstName: string (nullable = true)\n",
      " |-- gender: string (nullable = true)\n",
      " |-- itemInSession: long (nullable = true)\n",
      " |-- lastName: string (nullable = true)\n",
      " |-- length: double (nullable = true)\n",
      " |-- level: string (nullable = true)\n",
      " |-- location: string (nullable = true)\n",
      " |-- method: string (nullable = true)\n",
      " |-- page: string (nullable = true)\n",
      " |-- registration: long (nullable = true)\n",
      " |-- sessionId: long (nullable = true)\n",
      " |-- song: string (nullable = true)\n",
      " |-- status: long (nullable = true)\n",
      " |-- ts: long (nullable = true)\n",
      " |-- userAgent: string (nullable = true)\n",
      " |-- userId: string (nullable = true)\n",
      " |-- cancle_confirmed: integer (nullable = true)\n",
      " |-- Churn: long (nullable = true)\n",
      " |-- active_time: long (nullable = true)\n",
      " |-- active_hour: double (nullable = true)\n",
      "\n"
     ]
    }
   ],
   "source": [
    "df_valid.printSchema()"
   ]
  },
  {
   "cell_type": "code",
   "execution_count": null,
   "metadata": {},
   "outputs": [],
   "source": []
  },
  {
   "cell_type": "code",
   "execution_count": null,
   "metadata": {},
   "outputs": [],
   "source": []
  },
  {
   "cell_type": "code",
   "execution_count": 42,
   "metadata": {
    "scrolled": true
   },
   "outputs": [
    {
     "name": "stdout",
     "output_type": "stream",
     "text": [
      "+----------+---------------------+\n",
      "|max(Churn)|avg(sum(Thumbs Down))|\n",
      "+----------+---------------------+\n",
      "|         0|    11.84971098265896|\n",
      "|         1|    9.538461538461538|\n",
      "+----------+---------------------+\n",
      "\n"
     ]
    }
   ],
   "source": [
    "# Thumbs Down\n",
    "page_item_func('Thumbs Down')"
   ]
  },
  {
   "cell_type": "code",
   "execution_count": 43,
   "metadata": {},
   "outputs": [
    {
     "name": "stdout",
     "output_type": "stream",
     "text": [
      "+----------+-------------------+\n",
      "|max(Churn)|avg(sum(Thumbs Up))|\n",
      "+----------+-------------------+\n",
      "|         0|  61.80346820809248|\n",
      "|         1|              35.75|\n",
      "+----------+-------------------+\n",
      "\n"
     ]
    }
   ],
   "source": [
    "# Thumbs Up\n",
    "page_item_func('Thumbs Up')"
   ]
  },
  {
   "cell_type": "code",
   "execution_count": 44,
   "metadata": {},
   "outputs": [
    {
     "name": "stdout",
     "output_type": "stream",
     "text": [
      "+----------+-------------------------+\n",
      "|max(Churn)|avg(sum(Add to Playlist))|\n",
      "+----------+-------------------------+\n",
      "|         0|       31.722543352601157|\n",
      "|         1|        19.96153846153846|\n",
      "+----------+-------------------------+\n",
      "\n"
     ]
    }
   ],
   "source": [
    "# Add to Playlist\n",
    "page_item_func('Add to Playlist')"
   ]
  },
  {
   "cell_type": "code",
   "execution_count": 45,
   "metadata": {},
   "outputs": [
    {
     "name": "stdout",
     "output_type": "stream",
     "text": [
      "+----------+--------------------+\n",
      "|max(Churn)|avg(sum(Add Friend))|\n",
      "+----------+--------------------+\n",
      "|         0|  21.046242774566473|\n",
      "|         1|   12.23076923076923|\n",
      "+----------+--------------------+\n",
      "\n"
     ]
    }
   ],
   "source": [
    "# Add Friend\n",
    "page_item_func('Add Friend')"
   ]
  },
  {
   "cell_type": "code",
   "execution_count": 46,
   "metadata": {},
   "outputs": [
    {
     "name": "stdout",
     "output_type": "stream",
     "text": [
      "+----------+-------------------+\n",
      "|max(Churn)|avg(sum(Downgrade))|\n",
      "+----------+-------------------+\n",
      "|         0|   9.93063583815029|\n",
      "|         1|  6.480769230769231|\n",
      "+----------+-------------------+\n",
      "\n"
     ]
    }
   ],
   "source": [
    "# Downgrade\n",
    "page_item_func('Downgrade')"
   ]
  },
  {
   "cell_type": "code",
   "execution_count": 47,
   "metadata": {},
   "outputs": [
    {
     "name": "stdout",
     "output_type": "stream",
     "text": [
      "+----------+------------------+\n",
      "|max(Churn)| avg(sum(Upgrade))|\n",
      "+----------+------------------+\n",
      "|         0|2.2369942196531793|\n",
      "|         1|2.1538461538461537|\n",
      "+----------+------------------+\n",
      "\n"
     ]
    }
   ],
   "source": [
    "# Upgrade\n",
    "page_item_func('Upgrade')"
   ]
  },
  {
   "cell_type": "code",
   "execution_count": null,
   "metadata": {},
   "outputs": [],
   "source": []
  },
  {
   "cell_type": "code",
   "execution_count": null,
   "metadata": {},
   "outputs": [],
   "source": []
  },
  {
   "cell_type": "code",
   "execution_count": null,
   "metadata": {},
   "outputs": [],
   "source": []
  },
  {
   "cell_type": "code",
   "execution_count": null,
   "metadata": {},
   "outputs": [],
   "source": []
  },
  {
   "cell_type": "code",
   "execution_count": 50,
   "metadata": {},
   "outputs": [],
   "source": [
    "a = df_valid.select('page').dropDuplicates().collect()\n",
    "\n",
    "[i.page for i in a]"
   ]
  },
  {
   "cell_type": "code",
   "execution_count": 51,
   "metadata": {},
   "outputs": [
    {
     "data": {
      "text/plain": [
       "['Cancel',\n",
       " 'Submit Downgrade',\n",
       " 'Thumbs Down',\n",
       " 'Home',\n",
       " 'Downgrade',\n",
       " 'Roll Advert',\n",
       " 'Logout',\n",
       " 'Save Settings',\n",
       " 'Cancellation Confirmation',\n",
       " 'About',\n",
       " 'Settings',\n",
       " 'Add to Playlist',\n",
       " 'Add Friend',\n",
       " 'NextSong',\n",
       " 'Thumbs Up',\n",
       " 'Help',\n",
       " 'Upgrade',\n",
       " 'Error',\n",
       " 'Submit Upgrade']"
      ]
     },
     "execution_count": 51,
     "metadata": {},
     "output_type": "execute_result"
    }
   ],
   "source": [
    "[i.page for i in a]"
   ]
  },
  {
   "cell_type": "code",
   "execution_count": 122,
   "metadata": {
    "scrolled": true
   },
   "outputs": [
    {
     "name": "stdout",
     "output_type": "stream",
     "text": [
      "root\n",
      " |-- artist: string (nullable = true)\n",
      " |-- auth: string (nullable = true)\n",
      " |-- firstName: string (nullable = true)\n",
      " |-- gender: string (nullable = true)\n",
      " |-- itemInSession: long (nullable = true)\n",
      " |-- lastName: string (nullable = true)\n",
      " |-- length: double (nullable = true)\n",
      " |-- level: string (nullable = true)\n",
      " |-- location: string (nullable = true)\n",
      " |-- method: string (nullable = true)\n",
      " |-- page: string (nullable = true)\n",
      " |-- registration: long (nullable = true)\n",
      " |-- sessionId: long (nullable = true)\n",
      " |-- song: string (nullable = true)\n",
      " |-- status: long (nullable = true)\n",
      " |-- ts: long (nullable = true)\n",
      " |-- userAgent: string (nullable = true)\n",
      " |-- userId: string (nullable = true)\n",
      " |-- hour: string (nullable = true)\n",
      " |-- day: string (nullable = true)\n",
      " |-- month: string (nullable = true)\n",
      " |-- year: string (nullable = true)\n",
      " |-- reg_month: string (nullable = true)\n",
      " |-- reg_year: string (nullable = true)\n",
      " |-- cancle_confirmed: integer (nullable = true)\n",
      " |-- phase: long (nullable = true)\n",
      "\n"
     ]
    }
   ],
   "source": [
    "df_valid.printSchema()"
   ]
  },
  {
   "cell_type": "code",
   "execution_count": null,
   "metadata": {},
   "outputs": [],
   "source": []
  },
  {
   "cell_type": "code",
   "execution_count": null,
   "metadata": {},
   "outputs": [],
   "source": []
  },
  {
   "cell_type": "markdown",
   "metadata": {},
   "source": [
    "#### 2.3.2 Level Feature\n",
    "For there are several users have changed their level, I will see the latest level situaiton"
   ]
  },
  {
   "cell_type": "code",
   "execution_count": 86,
   "metadata": {
    "scrolled": true
   },
   "outputs": [
    {
     "data": {
      "text/plain": [
       "[Row(userId='100010', level='free', latest_level=1, Churn=0),\n",
       " Row(userId='200002', level='paid', latest_level=1, Churn=0),\n",
       " Row(userId='125', level='free', latest_level=1, Churn=1),\n",
       " Row(userId='124', level='paid', latest_level=1, Churn=0),\n",
       " Row(userId='51', level='paid', latest_level=1, Churn=1),\n",
       " Row(userId='7', level='free', latest_level=1, Churn=0),\n",
       " Row(userId='15', level='paid', latest_level=1, Churn=0),\n",
       " Row(userId='54', level='paid', latest_level=1, Churn=1),\n",
       " Row(userId='155', level='paid', latest_level=1, Churn=0),\n",
       " Row(userId='100014', level='paid', latest_level=1, Churn=1),\n",
       " Row(userId='132', level='paid', latest_level=1, Churn=0),\n",
       " Row(userId='154', level='free', latest_level=1, Churn=0),\n",
       " Row(userId='101', level='paid', latest_level=1, Churn=1),\n",
       " Row(userId='11', level='paid', latest_level=1, Churn=0),\n",
       " Row(userId='138', level='paid', latest_level=1, Churn=0),\n",
       " Row(userId='300017', level='paid', latest_level=1, Churn=0),\n",
       " Row(userId='100021', level='free', latest_level=1, Churn=1),\n",
       " Row(userId='29', level='paid', latest_level=1, Churn=1),\n",
       " Row(userId='69', level='paid', latest_level=1, Churn=0),\n",
       " Row(userId='112', level='free', latest_level=1, Churn=0),\n",
       " Row(userId='42', level='paid', latest_level=1, Churn=0),\n",
       " Row(userId='73', level='paid', latest_level=1, Churn=1),\n",
       " Row(userId='87', level='paid', latest_level=1, Churn=1),\n",
       " Row(userId='200010', level='free', latest_level=1, Churn=0),\n",
       " Row(userId='64', level='free', latest_level=1, Churn=0),\n",
       " Row(userId='3', level='paid', latest_level=1, Churn=1),\n",
       " Row(userId='113', level='paid', latest_level=1, Churn=0),\n",
       " Row(userId='30', level='paid', latest_level=1, Churn=0),\n",
       " Row(userId='34', level='free', latest_level=1, Churn=0),\n",
       " Row(userId='133', level='free', latest_level=1, Churn=0),\n",
       " Row(userId='59', level='paid', latest_level=1, Churn=0),\n",
       " Row(userId='139', level='paid', latest_level=1, Churn=0),\n",
       " Row(userId='146', level='free', latest_level=1, Churn=0),\n",
       " Row(userId='8', level='free', latest_level=1, Churn=0),\n",
       " Row(userId='22', level='free', latest_level=1, Churn=0),\n",
       " Row(userId='28', level='paid', latest_level=1, Churn=1),\n",
       " Row(userId='300018', level='paid', latest_level=1, Churn=0),\n",
       " Row(userId='300012', level='paid', latest_level=1, Churn=0),\n",
       " Row(userId='100022', level='free', latest_level=1, Churn=1),\n",
       " Row(userId='85', level='paid', latest_level=1, Churn=0),\n",
       " Row(userId='16', level='paid', latest_level=1, Churn=0),\n",
       " Row(userId='35', level='free', latest_level=1, Churn=0),\n",
       " Row(userId='52', level='paid', latest_level=1, Churn=0),\n",
       " Row(userId='300008', level='paid', latest_level=1, Churn=0),\n",
       " Row(userId='71', level='paid', latest_level=1, Churn=0),\n",
       " Row(userId='300013', level='paid', latest_level=1, Churn=0),\n",
       " Row(userId='98', level='paid', latest_level=1, Churn=0),\n",
       " Row(userId='100008', level='free', latest_level=1, Churn=0),\n",
       " Row(userId='47', level='free', latest_level=1, Churn=0),\n",
       " Row(userId='99', level='paid', latest_level=1, Churn=0),\n",
       " Row(userId='100025', level='free', latest_level=1, Churn=1),\n",
       " Row(userId='107', level='free', latest_level=1, Churn=0),\n",
       " Row(userId='110', level='free', latest_level=1, Churn=0),\n",
       " Row(userId='300006', level='paid', latest_level=1, Churn=0),\n",
       " Row(userId='300002', level='paid', latest_level=1, Churn=0),\n",
       " Row(userId='96', level='paid', latest_level=1, Churn=0),\n",
       " Row(userId='300007', level='paid', latest_level=1, Churn=1),\n",
       " Row(userId='43', level='free', latest_level=1, Churn=0),\n",
       " Row(userId='5', level='free', latest_level=1, Churn=0),\n",
       " Row(userId='100', level='paid', latest_level=1, Churn=0),\n",
       " Row(userId='100006', level='free', latest_level=1, Churn=1),\n",
       " Row(userId='18', level='paid', latest_level=1, Churn=1),\n",
       " Row(userId='70', level='paid', latest_level=1, Churn=1),\n",
       " Row(userId='100005', level='free', latest_level=1, Churn=1),\n",
       " Row(userId='27', level='free', latest_level=1, Churn=0),\n",
       " Row(userId='61', level='free', latest_level=1, Churn=0),\n",
       " Row(userId='75', level='paid', latest_level=1, Churn=0),\n",
       " Row(userId='126', level='paid', latest_level=1, Churn=0),\n",
       " Row(userId='131', level='free', latest_level=1, Churn=0),\n",
       " Row(userId='140', level='paid', latest_level=1, Churn=0),\n",
       " Row(userId='17', level='paid', latest_level=1, Churn=1),\n",
       " Row(userId='100007', level='paid', latest_level=1, Churn=1),\n",
       " Row(userId='26', level='paid', latest_level=1, Churn=0),\n",
       " Row(userId='120', level='paid', latest_level=1, Churn=0),\n",
       " Row(userId='200007', level='paid', latest_level=1, Churn=0),\n",
       " Row(userId='46', level='paid', latest_level=1, Churn=0),\n",
       " Row(userId='300004', level='free', latest_level=1, Churn=0),\n",
       " Row(userId='147', level='paid', latest_level=1, Churn=0),\n",
       " Row(userId='300001', level='paid', latest_level=1, Churn=1),\n",
       " Row(userId='300015', level='paid', latest_level=1, Churn=0),\n",
       " Row(userId='78', level='free', latest_level=1, Churn=0),\n",
       " Row(userId='77', level='paid', latest_level=1, Churn=0),\n",
       " Row(userId='89', level='paid', latest_level=1, Churn=0),\n",
       " Row(userId='136', level='paid', latest_level=1, Churn=0),\n",
       " Row(userId='118', level='paid', latest_level=1, Churn=0),\n",
       " Row(userId='6', level='paid', latest_level=1, Churn=0),\n",
       " Row(userId='300019', level='paid', latest_level=1, Churn=0),\n",
       " Row(userId='200014', level='paid', latest_level=1, Churn=0),\n",
       " Row(userId='100009', level='free', latest_level=1, Churn=1),\n",
       " Row(userId='300011', level='paid', latest_level=1, Churn=0),\n",
       " Row(userId='100004', level='paid', latest_level=1, Churn=0),\n",
       " Row(userId='104', level='paid', latest_level=1, Churn=0),\n",
       " Row(userId='60', level='paid', latest_level=1, Churn=0),\n",
       " Row(userId='68', level='free', latest_level=1, Churn=0),\n",
       " Row(userId='90', level='free', latest_level=1, Churn=0),\n",
       " Row(userId='200003', level='free', latest_level=1, Churn=0),\n",
       " Row(userId='100015', level='paid', latest_level=1, Churn=1),\n",
       " Row(userId='19', level='paid', latest_level=1, Churn=0),\n",
       " Row(userId='300023', level='paid', latest_level=1, Churn=0),\n",
       " Row(userId='300024', level='paid', latest_level=1, Churn=0),\n",
       " Row(userId='128', level='paid', latest_level=1, Churn=0),\n",
       " Row(userId='200024', level='paid', latest_level=1, Churn=1),\n",
       " Row(userId='23', level='paid', latest_level=1, Churn=0),\n",
       " Row(userId='41', level='paid', latest_level=1, Churn=0),\n",
       " Row(userId='102', level='free', latest_level=1, Churn=0),\n",
       " Row(userId='55', level='paid', latest_level=1, Churn=0),\n",
       " Row(userId='200008', level='paid', latest_level=1, Churn=0),\n",
       " Row(userId='111', level='paid', latest_level=1, Churn=0),\n",
       " Row(userId='100016', level='free', latest_level=1, Churn=0),\n",
       " Row(userId='100003', level='free', latest_level=1, Churn=1),\n",
       " Row(userId='93', level='paid', latest_level=1, Churn=0),\n",
       " Row(userId='95', level='free', latest_level=1, Churn=0),\n",
       " Row(userId='103', level='paid', latest_level=1, Churn=1),\n",
       " Row(userId='200005', level='paid', latest_level=1, Churn=0),\n",
       " Row(userId='38', level='paid', latest_level=1, Churn=0),\n",
       " Row(userId='40', level='paid', latest_level=1, Churn=0),\n",
       " Row(userId='200009', level='free', latest_level=1, Churn=0),\n",
       " Row(userId='25', level='paid', latest_level=1, Churn=0),\n",
       " Row(userId='135', level='free', latest_level=1, Churn=0),\n",
       " Row(userId='156', level='free', latest_level=1, Churn=0),\n",
       " Row(userId='44', level='paid', latest_level=1, Churn=0),\n",
       " Row(userId='100024', level='free', latest_level=1, Churn=1),\n",
       " Row(userId='144', level='free', latest_level=1, Churn=0),\n",
       " Row(userId='115', level='paid', latest_level=1, Churn=0),\n",
       " Row(userId='82', level='paid', latest_level=1, Churn=0),\n",
       " Row(userId='200023', level='paid', latest_level=1, Churn=0),\n",
       " Row(userId='53', level='paid', latest_level=1, Churn=1),\n",
       " Row(userId='92', level='free', latest_level=1, Churn=0),\n",
       " Row(userId='122', level='paid', latest_level=1, Churn=1),\n",
       " Row(userId='108', level='paid', latest_level=1, Churn=0),\n",
       " Row(userId='117', level='free', latest_level=1, Churn=0),\n",
       " Row(userId='300010', level='free', latest_level=1, Churn=0),\n",
       " Row(userId='200017', level='paid', latest_level=1, Churn=1),\n",
       " Row(userId='86', level='paid', latest_level=1, Churn=0),\n",
       " Row(userId='58', level='paid', latest_level=1, Churn=1),\n",
       " Row(userId='100011', level='free', latest_level=1, Churn=1),\n",
       " Row(userId='100019', level='free', latest_level=1, Churn=1),\n",
       " Row(userId='300014', level='paid', latest_level=1, Churn=0),\n",
       " Row(userId='81', level='paid', latest_level=1, Churn=0),\n",
       " Row(userId='114', level='paid', latest_level=1, Churn=0),\n",
       " Row(userId='33', level='paid', latest_level=1, Churn=0),\n",
       " Row(userId='100012', level='free', latest_level=1, Churn=1),\n",
       " Row(userId='150', level='free', latest_level=1, Churn=0),\n",
       " Row(userId='200018', level='free', latest_level=1, Churn=1),\n",
       " Row(userId='200016', level='free', latest_level=1, Churn=1),\n",
       " Row(userId='200025', level='paid', latest_level=1, Churn=0),\n",
       " Row(userId='300003', level='free', latest_level=1, Churn=0),\n",
       " Row(userId='153', level='paid', latest_level=1, Churn=0),\n",
       " Row(userId='200020', level='free', latest_level=1, Churn=1),\n",
       " Row(userId='141', level='paid', latest_level=1, Churn=0),\n",
       " Row(userId='148', level='free', latest_level=1, Churn=0),\n",
       " Row(userId='97', level='paid', latest_level=1, Churn=0),\n",
       " Row(userId='106', level='paid', latest_level=1, Churn=1),\n",
       " Row(userId='67', level='paid', latest_level=1, Churn=0),\n",
       " Row(userId='84', level='free', latest_level=1, Churn=0),\n",
       " Row(userId='143', level='free', latest_level=1, Churn=1),\n",
       " Row(userId='300025', level='paid', latest_level=1, Churn=0),\n",
       " Row(userId='79', level='paid', latest_level=1, Churn=0),\n",
       " Row(userId='24', level='free', latest_level=1, Churn=0),\n",
       " Row(userId='9', level='paid', latest_level=1, Churn=0),\n",
       " Row(userId='116', level='free', latest_level=1, Churn=0),\n",
       " Row(userId='32', level='paid', latest_level=1, Churn=1),\n",
       " Row(userId='152', level='paid', latest_level=1, Churn=0),\n",
       " Row(userId='134', level='free', latest_level=1, Churn=0),\n",
       " Row(userId='200001', level='free', latest_level=1, Churn=1),\n",
       " Row(userId='88', level='paid', latest_level=1, Churn=0),\n",
       " Row(userId='149', level='free', latest_level=1, Churn=0),\n",
       " Row(userId='105', level='paid', latest_level=1, Churn=1),\n",
       " Row(userId='20', level='paid', latest_level=1, Churn=0),\n",
       " Row(userId='200011', level='free', latest_level=1, Churn=1),\n",
       " Row(userId='200006', level='free', latest_level=1, Churn=0),\n",
       " Row(userId='100023', level='paid', latest_level=1, Churn=1),\n",
       " Row(userId='100013', level='paid', latest_level=1, Churn=1),\n",
       " Row(userId='142', level='paid', latest_level=1, Churn=0),\n",
       " Row(userId='56', level='paid', latest_level=1, Churn=0),\n",
       " Row(userId='127', level='paid', latest_level=1, Churn=0),\n",
       " Row(userId='300009', level='paid', latest_level=1, Churn=0),\n",
       " Row(userId='36', level='paid', latest_level=1, Churn=0),\n",
       " Row(userId='10', level='paid', latest_level=1, Churn=0),\n",
       " Row(userId='37', level='paid', latest_level=1, Churn=0),\n",
       " Row(userId='300022', level='paid', latest_level=1, Churn=0),\n",
       " Row(userId='49', level='paid', latest_level=1, Churn=0),\n",
       " Row(userId='300021', level='paid', latest_level=1, Churn=0),\n",
       " Row(userId='200004', level='paid', latest_level=1, Churn=0),\n",
       " Row(userId='300005', level='paid', latest_level=1, Churn=0),\n",
       " Row(userId='100017', level='free', latest_level=1, Churn=1),\n",
       " Row(userId='300020', level='paid', latest_level=1, Churn=0),\n",
       " Row(userId='63', level='free', latest_level=1, Churn=0),\n",
       " Row(userId='65', level='paid', latest_level=1, Churn=0),\n",
       " Row(userId='121', level='paid', latest_level=1, Churn=1),\n",
       " Row(userId='4', level='paid', latest_level=1, Churn=0),\n",
       " Row(userId='39', level='paid', latest_level=1, Churn=0),\n",
       " Row(userId='200012', level='free', latest_level=1, Churn=0),\n",
       " Row(userId='62', level='paid', latest_level=1, Churn=0),\n",
       " Row(userId='12', level='paid', latest_level=1, Churn=1),\n",
       " Row(userId='83', level='paid', latest_level=1, Churn=0),\n",
       " Row(userId='109', level='free', latest_level=1, Churn=0),\n",
       " Row(userId='123', level='free', latest_level=1, Churn=0),\n",
       " Row(userId='200022', level='free', latest_level=1, Churn=0),\n",
       " Row(userId='13', level='free', latest_level=1, Churn=0),\n",
       " Row(userId='200019', level='free', latest_level=1, Churn=0),\n",
       " Row(userId='14', level='paid', latest_level=1, Churn=0),\n",
       " Row(userId='21', level='paid', latest_level=1, Churn=0),\n",
       " Row(userId='66', level='paid', latest_level=1, Churn=0),\n",
       " Row(userId='91', level='paid', latest_level=1, Churn=0),\n",
       " Row(userId='94', level='free', latest_level=1, Churn=0),\n",
       " Row(userId='137', level='paid', latest_level=1, Churn=0),\n",
       " Row(userId='72', level='free', latest_level=1, Churn=0),\n",
       " Row(userId='74', level='paid', latest_level=1, Churn=0),\n",
       " Row(userId='300016', level='paid', latest_level=1, Churn=0),\n",
       " Row(userId='151', level='paid', latest_level=1, Churn=0),\n",
       " Row(userId='200015', level='free', latest_level=1, Churn=1),\n",
       " Row(userId='129', level='paid', latest_level=1, Churn=1),\n",
       " Row(userId='76', level='free', latest_level=1, Churn=0),\n",
       " Row(userId='2', level='paid', latest_level=1, Churn=0),\n",
       " Row(userId='100002', level='paid', latest_level=1, Churn=0),\n",
       " Row(userId='100018', level='free', latest_level=1, Churn=0),\n",
       " Row(userId='80', level='free', latest_level=1, Churn=0),\n",
       " Row(userId='145', level='paid', latest_level=1, Churn=0),\n",
       " Row(userId='50', level='paid', latest_level=1, Churn=0),\n",
       " Row(userId='45', level='paid', latest_level=1, Churn=0),\n",
       " Row(userId='57', level='free', latest_level=1, Churn=0),\n",
       " Row(userId='200021', level='paid', latest_level=1, Churn=1),\n",
       " Row(userId='119', level='free', latest_level=1, Churn=0),\n",
       " Row(userId='100001', level='free', latest_level=1, Churn=1)]"
      ]
     },
     "execution_count": 86,
     "metadata": {},
     "output_type": "execute_result"
    }
   ],
   "source": [
    "# find all user's latest level situation\n",
    "windowval2 = Window.partitionBy('userId').orderBy(desc('ts'))\n",
    "\n",
    "labeled_level_df = df_valid.withColumn('latest_level', row_number().over(windowval2))\n",
    "labeled_level_df = labeled_level_df.select(['userId','level','latest_level','Churn']).where(labeled_level_df.latest_level == 1)\n",
    "labeled_level_df.collect()\n"
   ]
  },
  {
   "cell_type": "code",
   "execution_count": 89,
   "metadata": {},
   "outputs": [
    {
     "name": "stdout",
     "output_type": "stream",
     "text": [
      "+-----+-----+-----+\n",
      "|level|Churn|count|\n",
      "+-----+-----+-----+\n",
      "| free|    0|   59|\n",
      "| paid|    0|  114|\n",
      "| free|    1|   21|\n",
      "| paid|    1|   31|\n",
      "+-----+-----+-----+\n",
      "\n",
      "None\n"
     ]
    },
    {
     "data": {
      "image/png": "[encoded data removed]",
      "text/plain": [
       "<Figure size 576x432 with 1 Axes>"
      ]
     },
     "metadata": {
      "needs_background": "light"
     },
     "output_type": "display_data"
    }
   ],
   "source": [
    "labeled_level_df_plot = labeled_level_df.groupby(['level','Churn']).count()\n",
    "print(labeled_level_df_plot.show())\n",
    "two_column_plot(labeled_level_df_plot,'Users Count for Level and Churn chart', \n",
    "                'Level', 'Count');\n",
    "\n"
   ]
  },
  {
   "cell_type": "markdown",
   "metadata": {},
   "source": [
    "It shows a obvious churn rate difference between free and paid groups. From free group, the pencentage of churned user is 21/(59+21) = 26.3% , From paid group, the pencentage is 31/(31+ 114) = 21.4%, there is 5% difference."
   ]
  },
  {
   "cell_type": "code",
   "execution_count": null,
   "metadata": {},
   "outputs": [],
   "source": []
  },
  {
   "cell_type": "code",
   "execution_count": null,
   "metadata": {},
   "outputs": [],
   "source": []
  },
  {
   "cell_type": "code",
   "execution_count": null,
   "metadata": {},
   "outputs": [],
   "source": []
  },
  {
   "cell_type": "code",
   "execution_count": null,
   "metadata": {},
   "outputs": [],
   "source": []
  },
  {
   "cell_type": "code",
   "execution_count": null,
   "metadata": {},
   "outputs": [],
   "source": []
  },
  {
   "cell_type": "markdown",
   "metadata": {},
   "source": [
    "# Feature Engineering\n",
    "Once you've familiarized yourself with the data, build out the features you find promising to train your model on. To work with the full dataset, you can follow the following steps.\n",
    "- Write a script to extract the necessary features from the smaller subset of data\n",
    "- Ensure that your script is scalable, using the best practices discussed in Lesson 3\n",
    "- Try your script on the full data set, debugging your script if necessary\n",
    "\n",
    "If you are working in the classroom workspace, you can just extract features based on the small subset of data contained here. Be sure to transfer over this work to the larger dataset when you work on your Spark cluster."
   ]
  },
  {
   "cell_type": "code",
   "execution_count": null,
   "metadata": {},
   "outputs": [],
   "source": []
  },
  {
   "cell_type": "code",
   "execution_count": null,
   "metadata": {},
   "outputs": [],
   "source": []
  },
  {
   "cell_type": "code",
   "execution_count": null,
   "metadata": {},
   "outputs": [],
   "source": []
  },
  {
   "cell_type": "markdown",
   "metadata": {},
   "source": [
    "# Modeling\n",
    "Split the full dataset into train, test, and validation sets. Test out several of the machine learning methods you learned. Evaluate the accuracy of the various models, tuning parameters as necessary. Determine your winning model based on test accuracy and report results on the validation set. Since the churned users are a fairly small subset, I suggest using F1 score as the metric to optimize."
   ]
  },
  {
   "cell_type": "code",
   "execution_count": null,
   "metadata": {},
   "outputs": [],
   "source": []
  },
  {
   "cell_type": "markdown",
   "metadata": {},
   "source": [
    "# Final Steps\n",
    "Clean up your code, adding comments and renaming variables to make the code easier to read and maintain. Refer to the Spark Project Overview page and Data Scientist Capstone Project Rubric to make sure you are including all components of the capstone project and meet all expectations. Remember, this includes thorough documentation in a README file in a Github repository, as well as a web app or blog post."
   ]
  },
  {
   "cell_type": "code",
   "execution_count": null,
   "metadata": {},
   "outputs": [],
   "source": []
  }
 ],
 "metadata": {
  "kernelspec": {
   "display_name": "Python 3",
   "language": "python",
   "name": "python3"
  },
  "language_info": {
   "codemirror_mode": {
    "name": "ipython",
    "version": 3
   },
   "file_extension": ".py",
   "mimetype": "text/x-python",
   "name": "python",
   "nbconvert_exporter": "python",
   "pygments_lexer": "ipython3",
   "version": "3.7.6"
  }
 },
 "nbformat": 4,
 "nbformat_minor": 4
}
